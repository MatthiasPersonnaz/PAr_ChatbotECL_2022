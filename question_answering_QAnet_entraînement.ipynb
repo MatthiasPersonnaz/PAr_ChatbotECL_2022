{
 "cells": [
  {
   "cell_type": "markdown",
   "metadata": {},
   "source": [
    "# Modèle QANet pour du *Question Answering*\n",
    "Base de données: https://rajpurkar.github.io/SQuAD-explorer/\n",
    "\n",
    "## Importation des données"
   ]
  },
  {
   "cell_type": "code",
   "execution_count": 2,
   "metadata": {},
   "outputs": [],
   "source": [
    "import tensorflow as tf\n",
    "import numpy as np\n",
    "import matplotlib.pyplot as plt"
   ]
  },
  {
   "cell_type": "code",
   "execution_count": 3,
   "metadata": {},
   "outputs": [],
   "source": [
    "physical_devices = tf.config.list_physical_devices('GPU') \n",
    "for device in physical_devices:\n",
    "    tf.config.experimental.set_memory_growth(device, True)"
   ]
  },
  {
   "cell_type": "markdown",
   "metadata": {},
   "source": [
    "### Extraction des variables de texte et des indices des réponses à l'aides d'outils de NLP"
   ]
  },
  {
   "cell_type": "code",
   "execution_count": 4,
   "metadata": {},
   "outputs": [],
   "source": [
    "import IPython.display\n",
    "\n",
    "import re as regex\n",
    "import spacy\n",
    "nlp = spacy.load('fr_core_news_sm')\n",
    "\n",
    "def traitement_nlp(text):\n",
    "    ctxt = regex.sub(r'[^0-9 ABCDEFGHIJKLMNOPQRSTUVWXYZabcdefghijklmnopqrstuvwxyzäëïöüâêîôûàéêèçùÉÀÈÇÂÊÎÔÛÄËÏÖÜÀÇÉÈÙ,:.?!;\\[\\]\\(\\)\\'-]','', text) # traitement ici pour optimiser\n",
    "    ctxt = regex.sub(r\"\\[[^\\[\\]]*\\]\",'',ctxt) # enlever les brackets et leur contenu\n",
    "    ctxt = regex.sub(r'[\" \"]+', \" \", ctxt) # remplacer les surplus d'espaces par uniquement un espace\n",
    "    ll = [tok.text.lower() for tok in nlp(ctxt)]\n",
    "    ctxt = ' '.join(ll)\n",
    "    return ctxt,ll"
   ]
  },
  {
   "cell_type": "markdown",
   "metadata": {},
   "source": [
    "#### Restaurer la liste du dataset"
   ]
  },
  {
   "cell_type": "code",
   "execution_count": 5,
   "metadata": {},
   "outputs": [],
   "source": [
    "import pickle\n",
    "with open(\"./questions_réponses_scol\", \"rb\") as fp:   # Unpickling\n",
    "    dataset = pickle.load(fp)"
   ]
  },
  {
   "cell_type": "markdown",
   "metadata": {},
   "source": [
    "#### Création des tenseurs en entrée et sortie\n",
    "* 1) contexte et question à l'aide de l'outil de TF de tokénisation"
   ]
  },
  {
   "cell_type": "code",
   "execution_count": 6,
   "metadata": {},
   "outputs": [
    {
     "name": "stdout",
     "output_type": "stream",
     "text": [
      "32 ----> qui\n",
      "828 ----> approuve\n",
      "7 ----> le\n",
      "140 ----> règlement\n",
      "1 ----> de\n",
      "41 ----> scolarité\n",
      "11 ----> ?\n",
      "Qui approuve le règlement de scolarité ?\n",
      "[ 32 828   7 140   1  41  11   0   0   0   0   0   0   0   0   0   0   0\n",
      "   0   0]\n"
     ]
    }
   ],
   "source": [
    "list_contexts = [data[0] for data in dataset]\n",
    "list_questions = [data[1] for data in dataset]\n",
    "\n",
    "\n",
    "from tensorflow.keras.preprocessing.text import Tokenizer\n",
    "\n",
    "tokenizer = Tokenizer(filters='')\n",
    "# créer un tokenizer adapté à tout le vocabulaire des questions et réponses (indexation valide sur les 2)\n",
    "tokenizer.fit_on_texts(list_contexts + list_questions) \n",
    "\n",
    "\n",
    "tensor_context = tokenizer.texts_to_sequences(list_contexts)\n",
    "tensor_question = tokenizer.texts_to_sequences(list_questions)\n",
    "\n",
    "# Pad the tensors to assign equal length to all the sequences\n",
    "tensor_context = tf.keras.preprocessing.sequence.pad_sequences(tensor_context,padding='post')\n",
    "tensor_question = tf.keras.preprocessing.sequence.pad_sequences(tensor_question,padding='post')\n",
    "\n",
    "\n",
    "# Show the mapping b/w word index and language tokenizer\n",
    "def convert(tokenizer, tensor):\n",
    "    for t in tensor: # t est un entier élément du tenseur\n",
    "        if t != 0:\n",
    "            print (\"%d ----> %s\" % (t, tokenizer.index_word[t]))\n",
    "convert(tokenizer, tensor_question[0])\n",
    "\n",
    "print(list_questions[0])\n",
    "print(tensor_question[0])"
   ]
  },
  {
   "cell_type": "markdown",
   "metadata": {},
   "source": [
    "* 2) réponse avec les vecteurs de probas de start et stop complets"
   ]
  },
  {
   "cell_type": "code",
   "execution_count": 7,
   "metadata": {},
   "outputs": [],
   "source": [
    "tensor_answer_start = np.zeros(tensor_context.shape)\n",
    "tensor_answer_stop  = np.zeros(tensor_context.shape)\n",
    "for i in range(len(dataset)):\n",
    "    tensor_answer_start[i][dataset[i][3]] = 1 # mettre une \"proba\" 1 là où ça démarre\n",
    "    tensor_answer_stop[i][dataset[i][4]]  = 1 # mettre une \"proba\" 1 là où ça stoppe\n",
    "\n",
    "tensor_answer_start = tf.convert_to_tensor(tensor_answer_start,dtype=tf.int32)\n",
    "tensor_answer_stop = tf.convert_to_tensor(tensor_answer_stop,dtype=tf.int32)\n"
   ]
  },
  {
   "cell_type": "markdown",
   "metadata": {},
   "source": [
    "Vérification des tailles des 4 tenseurs d'intérêt (2 en entrée, 2 en sortie)"
   ]
  },
  {
   "cell_type": "code",
   "execution_count": 8,
   "metadata": {},
   "outputs": [
    {
     "name": "stdout",
     "output_type": "stream",
     "text": [
      "(102, 185) int32\n",
      "(102, 20) int32\n",
      "(102, 185) <dtype: 'int32'>\n"
     ]
    }
   ],
   "source": [
    "print(tensor_context.shape, tensor_context.dtype)\n",
    "print(tensor_question.shape, tensor_question.dtype)\n",
    "print(tensor_answer_start.shape, tensor_answer_start.dtype)"
   ]
  },
  {
   "cell_type": "markdown",
   "metadata": {},
   "source": [
    "### Quelques paramètres importants"
   ]
  },
  {
   "cell_type": "code",
   "execution_count": 9,
   "metadata": {},
   "outputs": [
    {
     "name": "stdout",
     "output_type": "stream",
     "text": [
      "nombre de données: 102\n",
      "longueur max contexte en mots: 185\n",
      "longueur max question en mots: 20\n",
      "taille du vocabulaire: 898\n"
     ]
    }
   ],
   "source": [
    "vocab_inp_size = len(tokenizer.word_index)\n",
    "n_train, max_length_question = tensor_question.shape\n",
    "nb_set_train, max_length_context = tensor_context.shape\n",
    "embedding_dim = 32\n",
    "\n",
    "print(f\"nombre de données: {n_train}\\nlongueur max contexte en mots: {max_length_context}\\nlongueur max question en mots: {max_length_question}\\ntaille du vocabulaire: {vocab_inp_size}\")"
   ]
  },
  {
   "cell_type": "markdown",
   "metadata": {},
   "source": [
    "## Création des classes pertinentes\n",
    "### Positional encoding\n",
    "#### **[OK]** Classe `PositionalEncoding` du livre de François Chollet"
   ]
  },
  {
   "cell_type": "code",
   "execution_count": 10,
   "metadata": {},
   "outputs": [],
   "source": [
    "class PositionalEncoding(tf.keras.layers.Layer): # dans Hands-On Machine Learning for Python\n",
    "    def __init__(self, sizes, dtype=tf.float32, **kwargs):\n",
    "        super().__init__(dtype=dtype, **kwargs)\n",
    "        max_steps = sizes[0]\n",
    "        max_dims = sizes[1]\n",
    "        if max_dims % 2 == 1: max_dims += 1 # max_dims must be even\n",
    "        p, i = np.meshgrid(np.arange(max_steps), np.arange(max_dims // 2))\n",
    "        pos_emb = np.empty((1, max_steps, max_dims))\n",
    "        pos_emb[0, :, ::2] = np.sin(p / 10000**(2 * i / max_dims)).T\n",
    "        pos_emb[0, :, 1::2] = np.cos(p / 10000**(2 * i / max_dims)).T\n",
    "        self.positional_embedding = tf.constant(pos_emb.astype(self.dtype))\n",
    "    def call(self, inputs):\n",
    "        shape = tf.shape(inputs)\n",
    "        return inputs + self.positional_embedding[:, :shape[-2], :shape[-1]]\n",
    "    def get_config(self):\n",
    "        config = super().get_config()\n",
    "        config.update({})\n",
    "        return config"
   ]
  },
  {
   "cell_type": "markdown",
   "metadata": {},
   "source": [
    "#### **[OK]** Classe `EncoderBlock`"
   ]
  },
  {
   "cell_type": "code",
   "execution_count": 34,
   "metadata": {},
   "outputs": [],
   "source": [
    "class EncoderBlock(tf.keras.layers.Layer):\n",
    "    def __init__(self, dimension, maximum_position_encoding, nb_att_heads):\n",
    "        super(EncoderBlock, self).__init__()\n",
    "        self.dim_embedding = dimension\n",
    "        self.pos_encoding = PositionalEncoding([maximum_position_encoding,dimension])\n",
    "\n",
    "        self.mha = tf.keras.layers.MultiHeadAttention(num_heads=nb_att_heads, key_dim=dimension)\n",
    "\n",
    "        # feed-forward network\n",
    "        self.ffn = tf.keras.layers.Dense(dimension, activation='tanh')\n",
    "        \n",
    "\n",
    "        self.cnn = tf.keras.layers.Conv1D(filters=dimension,kernel_size=4,padding='same')  # Use 'same' padding so outputs have the same shape as inputs.\n",
    "\n",
    "        self.norm1 = tf.keras.layers.LayerNormalization(epsilon=1e-6)\n",
    "        self.norm2 = tf.keras.layers.LayerNormalization(epsilon=1e-6)\n",
    "        self.norm3 = tf.keras.layers.LayerNormalization(epsilon=1e-6)\n",
    "\n",
    "        self.add1 = tf.keras.layers.Add()\n",
    "        self.add2 = tf.keras.layers.Add()\n",
    "        self.add3 = tf.keras.layers.Add()\n",
    "\n",
    "        self.dropout1 = tf.keras.layers.Dropout(.03)\n",
    "        self.dropout2 = tf.keras.layers.Dropout(.03)\n",
    "        self.dropout3 = tf.keras.layers.Dropout(.03)\n",
    "\n",
    "    def call(self, x):\n",
    "\n",
    "        x_enc = self.pos_encoding(x)\n",
    "        \n",
    "        out_norm1     = self.norm1(x_enc)\n",
    "        out_conv      = self.cnn(out_norm1)\n",
    "        out1          = self.add1([out_conv,x])\n",
    "        out1          = self.dropout1(out1)\n",
    "\n",
    "        out_norm2     = self.norm2(out1)\n",
    "        out_att       = self.mha(out_norm2, out_norm2, out_norm2, return_attention_scores=False)\n",
    "        out2          = self.add2([out_att,out1])\n",
    "        out2          = self.dropout2(out2)\n",
    "\n",
    "        out_norm3     = self.norm3(out2)\n",
    "        out_ffn       = self.ffn(out_norm3)\n",
    "        out3          = self.add3([out_ffn,out2])\n",
    "        out3          = self.dropout2(out3)\n",
    "\n",
    "        return out3"
   ]
  },
  {
   "cell_type": "markdown",
   "metadata": {},
   "source": [
    "### Pour faire un schéma de l'Encoder Block"
   ]
  },
  {
   "cell_type": "code",
   "execution_count": 12,
   "metadata": {},
   "outputs": [
    {
     "name": "stdout",
     "output_type": "stream",
     "text": [
      "(4, 10, 128)\n",
      "Model: \"model\"\n",
      "__________________________________________________________________________________________________\n",
      " Layer (type)                   Output Shape         Param #     Connected to                     \n",
      "==================================================================================================\n",
      " input_1 (InputLayer)           [(None, 10, 128)]    0           []                               \n",
      "                                                                                                  \n",
      " positional_encoding (Positiona  (None, 10, 128)     0           ['input_1[0][0]']                \n",
      " lEncoding)                                                                                       \n",
      "                                                                                                  \n",
      " layer_normalization (LayerNorm  (None, 10, 128)     256         ['positional_encoding[0][0]']    \n",
      " alization)                                                                                       \n",
      "                                                                                                  \n",
      " convolution (Conv1D)           (None, 10, 128)      65664       ['layer_normalization[0][0]']    \n",
      "                                                                                                  \n",
      " add (Add)                      (None, 10, 128)      0           ['convolution[0][0]',            \n",
      "                                                                  'positional_encoding[0][0]']    \n",
      "                                                                                                  \n",
      " layer_normalization_1 (LayerNo  (None, 10, 128)     256         ['add[0][0]']                    \n",
      " rmalization)                                                                                     \n",
      "                                                                                                  \n",
      " attention (MultiHeadAttention)  (None, 10, 128)     197888      ['layer_normalization_1[0][0]',  \n",
      "                                                                  'layer_normalization_1[0][0]',  \n",
      "                                                                  'layer_normalization_1[0][0]']  \n",
      "                                                                                                  \n",
      " add_1 (Add)                    (None, 10, 128)      0           ['attention[0][0]',              \n",
      "                                                                  'add[0][0]']                    \n",
      "                                                                                                  \n",
      " layer_normalization_2 (LayerNo  (None, 10, 128)     256         ['add_1[0][0]']                  \n",
      " rmalization)                                                                                     \n",
      "                                                                                                  \n",
      " feed_forward_1 (Dense)         (None, 10, 128)      16512       ['layer_normalization_2[0][0]']  \n",
      "                                                                                                  \n",
      " feed_forward_2 (Dense)         (None, 10, 128)      16512       ['feed_forward_1[0][0]']         \n",
      "                                                                                                  \n",
      " add_2 (Add)                    (None, 10, 128)      0           ['feed_forward_2[0][0]',         \n",
      "                                                                  'add_1[0][0]']                  \n",
      "                                                                                                  \n",
      "==================================================================================================\n",
      "Total params: 297,344\n",
      "Trainable params: 297,344\n",
      "Non-trainable params: 0\n",
      "__________________________________________________________________________________________________\n"
     ]
    }
   ],
   "source": [
    "mha = tf.keras.layers.MultiHeadAttention(num_heads=3, key_dim=128, name='attention')\n",
    "\n",
    "# feed-forward network\n",
    "ffn1 = tf.keras.layers.Dense(128, activation='tanh', name='feed_forward_1')  # (batch_size, seq_len, dff)\n",
    "ffn2 = tf.keras.layers.Dense(128, activation='tanh', name='feed_forward_2')  # (batch_size, seq_len, dimension)\n",
    "\n",
    "\n",
    "cnn = tf.keras.layers.Conv1D(filters=128,kernel_size=4,padding='same', name='convolution')   # Use 'same' padding so outputs have the same shape as inputs.\n",
    "\n",
    "norm1 = tf.keras.layers.LayerNormalization(epsilon=1e-6)\n",
    "norm2 = tf.keras.layers.LayerNormalization(epsilon=1e-6)\n",
    "norm3 = tf.keras.layers.LayerNormalization(epsilon=1e-6)\n",
    "\n",
    "add1 = tf.keras.layers.Add()\n",
    "add2 = tf.keras.layers.Add()\n",
    "add3 = tf.keras.layers.Add()\n",
    "\n",
    "pos_enc = PositionalEncoding([20, 128])\n",
    "\n",
    "\n",
    "x = tf.keras.Input(shape=(10,128))\n",
    "\n",
    "\n",
    "out_enc = pos_enc(x)\n",
    "\n",
    "\n",
    "out_norm1     = norm1(out_enc)\n",
    "out_conv      = cnn(out_norm1)\n",
    "out1          = add1([out_conv,out_enc])\n",
    "\n",
    "out_norm2     = norm2(out1)\n",
    "out_att       = mha(out_norm2, out_norm2, out_norm2, return_attention_scores=False)\n",
    "out2          = add2([out_att,out1])\n",
    "\n",
    "out_norm3     = norm3(out2)\n",
    "out_ffn1      = ffn1(out_norm3)\n",
    "out_ffn2      = ffn2(out_ffn1)\n",
    "out3          = add3([out_ffn2,out2])\n",
    "\n",
    "func_model = tf.keras.Model(inputs=x, outputs=out3)\n",
    "\n",
    "inp_example = tf.random.normal((4,10,128), mean=0.0, stddev=1.0, dtype=tf.float32)\n",
    "print(func_model(inp_example).shape)\n",
    "\n",
    "func_model.compile()\n",
    "func_model.summary()"
   ]
  },
  {
   "cell_type": "code",
   "execution_count": 27,
   "metadata": {},
   "outputs": [
    {
     "ename": "NameError",
     "evalue": "name 'func_model' is not defined",
     "output_type": "error",
     "traceback": [
      "\u001b[1;31m---------------------------------------------------------------------------\u001b[0m",
      "\u001b[1;31mNameError\u001b[0m                                 Traceback (most recent call last)",
      "\u001b[1;32m~\\AppData\\Local\\Temp/ipykernel_15656/2959512680.py\u001b[0m in \u001b[0;36m<module>\u001b[1;34m\u001b[0m\n\u001b[1;32m----> 1\u001b[1;33m tf.keras.utils.plot_model(func_model,\n\u001b[0m\u001b[0;32m      2\u001b[0m     \u001b[0mto_file\u001b[0m\u001b[1;33m=\u001b[0m\u001b[1;34m'model.png'\u001b[0m\u001b[1;33m,\u001b[0m\u001b[1;33m\u001b[0m\u001b[1;33m\u001b[0m\u001b[0m\n\u001b[0;32m      3\u001b[0m     \u001b[0mshow_shapes\u001b[0m\u001b[1;33m=\u001b[0m\u001b[1;32mTrue\u001b[0m\u001b[1;33m,\u001b[0m\u001b[1;33m\u001b[0m\u001b[1;33m\u001b[0m\u001b[0m\n\u001b[0;32m      4\u001b[0m     \u001b[0mshow_dtype\u001b[0m\u001b[1;33m=\u001b[0m\u001b[1;32mTrue\u001b[0m\u001b[1;33m,\u001b[0m\u001b[1;33m\u001b[0m\u001b[1;33m\u001b[0m\u001b[0m\n\u001b[0;32m      5\u001b[0m     \u001b[0mshow_layer_names\u001b[0m\u001b[1;33m=\u001b[0m\u001b[1;32mTrue\u001b[0m\u001b[1;33m,\u001b[0m\u001b[1;33m\u001b[0m\u001b[1;33m\u001b[0m\u001b[0m\n",
      "\u001b[1;31mNameError\u001b[0m: name 'func_model' is not defined"
     ]
    }
   ],
   "source": [
    "tf.keras.utils.plot_model(func_model,\n",
    "    to_file='model.png',\n",
    "    show_shapes=True,\n",
    "    show_dtype=True,\n",
    "    show_layer_names=True,\n",
    "    rankdir='LR',\n",
    "    expand_nested=True,\n",
    "    dpi=96,\n",
    "    layer_range=None,\n",
    "    show_layer_activations=True\n",
    ")"
   ]
  },
  {
   "cell_type": "markdown",
   "metadata": {},
   "source": [
    "#### Classe `QARetriever`"
   ]
  },
  {
   "cell_type": "code",
   "execution_count": 35,
   "metadata": {},
   "outputs": [],
   "source": [
    "class QARetriever(tf.keras.Model):\n",
    "    def __init__(self, dimension_embedding, maximum_position_encoding, nb_att_heads, vocab_size):\n",
    "        super().__init__()\n",
    "\n",
    "        self.encoder_block_context = EncoderBlock(dimension=dimension_embedding,\n",
    "                                                  maximum_position_encoding=maximum_position_encoding,\n",
    "                                                  nb_att_heads=nb_att_heads)\n",
    "        self.encoder_block_question = EncoderBlock(dimension=dimension_embedding,\n",
    "                                                  maximum_position_encoding=maximum_position_encoding,\n",
    "                                                  nb_att_heads=nb_att_heads)\n",
    "\n",
    "        self.encoder_block1 = EncoderBlock(dimension=dimension_embedding,\n",
    "                                                  maximum_position_encoding=maximum_position_encoding,\n",
    "                                                  nb_att_heads=nb_att_heads)\n",
    "        self.encoder_block2 = EncoderBlock(dimension=dimension_embedding,\n",
    "                                                  maximum_position_encoding=maximum_position_encoding,\n",
    "                                                  nb_att_heads=nb_att_heads)\n",
    "        self.encoder_block3 = EncoderBlock(dimension=dimension_embedding,\n",
    "                                                  maximum_position_encoding=maximum_position_encoding,\n",
    "                                                  nb_att_heads=nb_att_heads)\n",
    "\n",
    "\n",
    "\n",
    "        self.embedding_layer      = tf.keras.layers.Embedding(vocab_size, dimension_embedding)\n",
    "        self.mask                 = tf.keras.layers.Masking(mask_value=0, input_shape=(None, maximum_position_encoding, embedding_dim))\n",
    "        self.attention_layer      = tf.keras.layers.Attention()\n",
    "        self.concat_layer         = tf.keras.layers.Concatenate(axis=-2) # concatenate sequences, not features\n",
    "        self.dense_start          = tf.keras.layers.Dense(1, activation=tf.keras.activations.linear)\n",
    "        self.dense_stop           = tf.keras.layers.Dense(1, activation=tf.keras.activations.linear)\n",
    "        self.dense_start_final    = tf.keras.layers.Dense(maximum_position_encoding, activation=tf.keras.activations.linear)\n",
    "        self.dense_stop_final     = tf.keras.layers.Dense(maximum_position_encoding, activation=tf.keras.activations.linear)\n",
    "\n",
    "\n",
    "    def call(self, inputs):\n",
    "        # Keras models prefer if you pass all your inputs in the first argument\n",
    "\n",
    "        context, question    = inputs\n",
    "        question_embedding   = self.embedding_layer(question) # (batch_size, inp_seq_len, d_model)\n",
    "        question_embedding   = self.mask(question_embedding)\n",
    "        context_embedding    = self.embedding_layer(context)\n",
    "        context_embedding    = self.mask(context_embedding)\n",
    "\n",
    "        pre_att_question = self.encoder_block_question(question_embedding)\n",
    "        pre_att_context = self.encoder_block_context(context_embedding)\n",
    "\n",
    "        ctxt_query_att = self.attention_layer([pre_att_context, pre_att_question])\n",
    "\n",
    "        out1 = self.encoder_block1(ctxt_query_att)\n",
    "        out2 = self.encoder_block2(out1)\n",
    "        out3 = self.encoder_block3(out2)\n",
    "\n",
    "        \n",
    "        input_start = self.concat_layer([out1, out2])\n",
    "        input_stop = self.concat_layer([out1, out3])\n",
    "        # print(f\"input dense: {input_start.shape}\")\n",
    "\n",
    "        output_start = self.dense_start(input_start)\n",
    "        output_stop = self.dense_stop(input_stop)\n",
    "        # print(f\"output dense: {output_start.shape}\")\n",
    "\n",
    "        output_start = tf.squeeze(output_start, axis=-1)\n",
    "        output_stop = tf.squeeze(output_stop, axis=-1)\n",
    "        # print(f\"output dense + squeeze: {output_start.shape}\")\n",
    "\n",
    "        # enfin, on réduit la dimension à la longueur originale\n",
    "        output_start = self.dense_start_final(output_start)\n",
    "        output_stop  = self.dense_stop_final(output_stop)\n",
    "        # print(f\"output dense final: {output_start.shape}\")\n",
    "\n",
    "\n",
    "\n",
    "        prob_start = tf.nn.softmax(output_start, axis=-1)\n",
    "        prob_stop = tf.nn.softmax(output_stop, axis=-1)\n",
    "\n",
    "        return prob_start,prob_stop\n"
   ]
  },
  {
   "cell_type": "code",
   "execution_count": 36,
   "metadata": {},
   "outputs": [
    {
     "name": "stdout",
     "output_type": "stream",
     "text": [
      "Model: \"qa_retriever_4\"\n",
      "_________________________________________________________________\n",
      " Layer (type)                Output Shape              Param #   \n",
      "=================================================================\n",
      " encoder_block_20 (EncoderBl  multiple                 17984     \n",
      " ock)                                                            \n",
      "                                                                 \n",
      " encoder_block_21 (EncoderBl  multiple                 17984     \n",
      " ock)                                                            \n",
      "                                                                 \n",
      " encoder_block_22 (EncoderBl  multiple                 17984     \n",
      " ock)                                                            \n",
      "                                                                 \n",
      " encoder_block_23 (EncoderBl  multiple                 17984     \n",
      " ock)                                                            \n",
      "                                                                 \n",
      " encoder_block_24 (EncoderBl  multiple                 17984     \n",
      " ock)                                                            \n",
      "                                                                 \n",
      " embedding_4 (Embedding)     multiple                  28736     \n",
      "                                                                 \n",
      " masking_4 (Masking)         multiple                  0         \n",
      "                                                                 \n",
      " attention_4 (Attention)     multiple                  0         \n",
      "                                                                 \n",
      " concatenate_4 (Concatenate)  multiple                 0         \n",
      "                                                                 \n",
      " dense_41 (Dense)            multiple                  33        \n",
      "                                                                 \n",
      " dense_42 (Dense)            multiple                  33        \n",
      "                                                                 \n",
      " dense_43 (Dense)            multiple                  68635     \n",
      "                                                                 \n",
      " dense_44 (Dense)            multiple                  68635     \n",
      "                                                                 \n",
      "=================================================================\n",
      "Total params: 255,992\n",
      "Trainable params: 255,992\n",
      "Non-trainable params: 0\n",
      "_________________________________________________________________\n"
     ]
    }
   ],
   "source": [
    "retriever = QARetriever(dimension_embedding=embedding_dim, maximum_position_encoding=max_length_context, nb_att_heads=3, vocab_size=vocab_inp_size)\n",
    "retriever.compile(optimizer='Adam', loss=tf.losses.CategoricalCrossentropy(), metrics = [\"accuracy\"]) # losses.MeanSquaredError() losses.CosineSimilarity()\n",
    "retriever.build(input_shape=[tensor_context.shape, tensor_question.shape])\n",
    "retriever.summary()\n",
    "# retriever = retriever.get_model()\n",
    "# retriever.save('./saved_model/qanet',save_format='tf')"
   ]
  },
  {
   "cell_type": "markdown",
   "metadata": {},
   "source": [
    "Afficher les métriques disponibles"
   ]
  },
  {
   "cell_type": "code",
   "execution_count": 37,
   "metadata": {},
   "outputs": [
    {
     "name": "stdout",
     "output_type": "stream",
     "text": [
      "Epoch 1/100\n",
      "1/1 [==============================] - 6s 6s/step - loss: 18.9544 - output_1_loss: 10.5102 - output_2_loss: 8.4443 - output_1_accuracy: 0.0000e+00 - output_2_accuracy: 0.0000e+00 - val_loss: 15.2373 - val_output_1_loss: 6.6867 - val_output_2_loss: 8.5506 - val_output_1_accuracy: 0.0000e+00 - val_output_2_accuracy: 0.0000e+00\n",
      "Epoch 2/100\n",
      "1/1 [==============================] - 0s 158ms/step - loss: 15.9697 - output_1_loss: 7.5274 - output_2_loss: 8.4422 - output_1_accuracy: 0.0000e+00 - output_2_accuracy: 0.0000e+00 - val_loss: 13.3604 - val_output_1_loss: 7.9431 - val_output_2_loss: 5.4173 - val_output_1_accuracy: 0.0000e+00 - val_output_2_accuracy: 0.0476\n",
      "Epoch 3/100\n",
      "1/1 [==============================] - 0s 154ms/step - loss: 14.0921 - output_1_loss: 8.0019 - output_2_loss: 6.0902 - output_1_accuracy: 0.0000e+00 - output_2_accuracy: 0.0247 - val_loss: 11.6265 - val_output_1_loss: 6.2258 - val_output_2_loss: 5.4007 - val_output_1_accuracy: 0.0000e+00 - val_output_2_accuracy: 0.0476\n",
      "Epoch 4/100\n",
      "1/1 [==============================] - 0s 145ms/step - loss: 12.0982 - output_1_loss: 6.5742 - output_2_loss: 5.5241 - output_1_accuracy: 0.0000e+00 - output_2_accuracy: 0.0494 - val_loss: 10.3847 - val_output_1_loss: 5.3546 - val_output_2_loss: 5.0300 - val_output_1_accuracy: 0.0476 - val_output_2_accuracy: 0.0476\n",
      "Epoch 5/100\n",
      "1/1 [==============================] - 0s 141ms/step - loss: 11.0837 - output_1_loss: 5.6794 - output_2_loss: 5.4043 - output_1_accuracy: 0.0123 - output_2_accuracy: 0.0123 - val_loss: 10.3855 - val_output_1_loss: 5.4285 - val_output_2_loss: 4.9570 - val_output_1_accuracy: 0.0000e+00 - val_output_2_accuracy: 0.0476\n",
      "Epoch 6/100\n",
      "1/1 [==============================] - ETA: 0s - loss: 11.0413 - output_1_loss: 5.9052 - output_2_loss: 5.1361 - output_1_accuracy: 0.0123 - output_2_accuracy: 0.04 - 0s 139ms/step - loss: 11.0413 - output_1_loss: 5.9052 - output_2_loss: 5.1361 - output_1_accuracy: 0.0123 - output_2_accuracy: 0.0494 - val_loss: 10.4403 - val_output_1_loss: 5.2857 - val_output_2_loss: 5.1546 - val_output_1_accuracy: 0.0000e+00 - val_output_2_accuracy: 0.0476\n",
      "Epoch 7/100\n",
      "1/1 [==============================] - 0s 142ms/step - loss: 10.7674 - output_1_loss: 5.7511 - output_2_loss: 5.0164 - output_1_accuracy: 0.0494 - output_2_accuracy: 0.0370 - val_loss: 10.5851 - val_output_1_loss: 5.0221 - val_output_2_loss: 5.5630 - val_output_1_accuracy: 0.0000e+00 - val_output_2_accuracy: 0.0476\n",
      "Epoch 8/100\n",
      "1/1 [==============================] - 0s 142ms/step - loss: 10.2007 - output_1_loss: 5.2250 - output_2_loss: 4.9757 - output_1_accuracy: 0.0617 - output_2_accuracy: 0.0741 - val_loss: 10.5878 - val_output_1_loss: 4.8262 - val_output_2_loss: 5.7616 - val_output_1_accuracy: 0.0000e+00 - val_output_2_accuracy: 0.0476\n",
      "Epoch 9/100\n",
      "1/1 [==============================] - 0s 139ms/step - loss: 9.6091 - output_1_loss: 4.9680 - output_2_loss: 4.6411 - output_1_accuracy: 0.0370 - output_2_accuracy: 0.0617 - val_loss: 10.5703 - val_output_1_loss: 4.7287 - val_output_2_loss: 5.8416 - val_output_1_accuracy: 0.0476 - val_output_2_accuracy: 0.0476\n",
      "Epoch 10/100\n",
      "1/1 [==============================] - 0s 146ms/step - loss: 9.0406 - output_1_loss: 4.4541 - output_2_loss: 4.5866 - output_1_accuracy: 0.0494 - output_2_accuracy: 0.0370 - val_loss: 10.6627 - val_output_1_loss: 4.7125 - val_output_2_loss: 5.9502 - val_output_1_accuracy: 0.0000e+00 - val_output_2_accuracy: 0.0476\n",
      "Epoch 11/100\n",
      "1/1 [==============================] - 0s 152ms/step - loss: 9.0348 - output_1_loss: 4.5950 - output_2_loss: 4.4397 - output_1_accuracy: 0.0617 - output_2_accuracy: 0.0494 - val_loss: 10.7162 - val_output_1_loss: 4.7369 - val_output_2_loss: 5.9793 - val_output_1_accuracy: 0.0476 - val_output_2_accuracy: 0.0476\n",
      "Epoch 12/100\n",
      "1/1 [==============================] - 0s 144ms/step - loss: 8.5880 - output_1_loss: 4.3784 - output_2_loss: 4.2096 - output_1_accuracy: 0.0370 - output_2_accuracy: 0.0617 - val_loss: 10.6492 - val_output_1_loss: 4.7709 - val_output_2_loss: 5.8783 - val_output_1_accuracy: 0.0476 - val_output_2_accuracy: 0.0476\n",
      "Epoch 13/100\n",
      "1/1 [==============================] - 0s 146ms/step - loss: 8.3328 - output_1_loss: 4.2702 - output_2_loss: 4.0626 - output_1_accuracy: 0.0123 - output_2_accuracy: 0.0864 - val_loss: 10.4942 - val_output_1_loss: 4.7795 - val_output_2_loss: 5.7146 - val_output_1_accuracy: 0.0000e+00 - val_output_2_accuracy: 0.0000e+00\n",
      "Epoch 14/100\n",
      "1/1 [==============================] - 0s 148ms/step - loss: 8.2021 - output_1_loss: 4.0907 - output_2_loss: 4.1115 - output_1_accuracy: 0.0617 - output_2_accuracy: 0.0494 - val_loss: 10.3496 - val_output_1_loss: 4.8069 - val_output_2_loss: 5.5427 - val_output_1_accuracy: 0.0476 - val_output_2_accuracy: 0.0000e+00\n",
      "Epoch 15/100\n",
      "1/1 [==============================] - 0s 144ms/step - loss: 8.1750 - output_1_loss: 3.9009 - output_2_loss: 4.2741 - output_1_accuracy: 0.0247 - output_2_accuracy: 0.0494 - val_loss: 10.2861 - val_output_1_loss: 4.8856 - val_output_2_loss: 5.4005 - val_output_1_accuracy: 0.0476 - val_output_2_accuracy: 0.0476\n",
      "Epoch 16/100\n",
      "1/1 [==============================] - 0s 134ms/step - loss: 7.7194 - output_1_loss: 3.7252 - output_2_loss: 3.9942 - output_1_accuracy: 0.0741 - output_2_accuracy: 0.0494 - val_loss: 10.2988 - val_output_1_loss: 4.9951 - val_output_2_loss: 5.3038 - val_output_1_accuracy: 0.0476 - val_output_2_accuracy: 0.0476\n",
      "Epoch 17/100\n",
      "1/1 [==============================] - 0s 138ms/step - loss: 8.0803 - output_1_loss: 3.9747 - output_2_loss: 4.1055 - output_1_accuracy: 0.0494 - output_2_accuracy: 0.0617 - val_loss: 10.3302 - val_output_1_loss: 5.1530 - val_output_2_loss: 5.1771 - val_output_1_accuracy: 0.0952 - val_output_2_accuracy: 0.0476\n",
      "Epoch 18/100\n",
      "1/1 [==============================] - 0s 143ms/step - loss: 7.6240 - output_1_loss: 3.4762 - output_2_loss: 4.1478 - output_1_accuracy: 0.1111 - output_2_accuracy: 0.0370 - val_loss: 10.3351 - val_output_1_loss: 5.2777 - val_output_2_loss: 5.0574 - val_output_1_accuracy: 0.0952 - val_output_2_accuracy: 0.0476\n",
      "Epoch 19/100\n",
      "1/1 [==============================] - 0s 132ms/step - loss: 8.1358 - output_1_loss: 3.9245 - output_2_loss: 4.2113 - output_1_accuracy: 0.0617 - output_2_accuracy: 0.0494 - val_loss: 10.3601 - val_output_1_loss: 5.3412 - val_output_2_loss: 5.0189 - val_output_1_accuracy: 0.0952 - val_output_2_accuracy: 0.0476\n",
      "Epoch 20/100\n",
      "1/1 [==============================] - 0s 135ms/step - loss: 7.7033 - output_1_loss: 3.5589 - output_2_loss: 4.1444 - output_1_accuracy: 0.0864 - output_2_accuracy: 0.0494 - val_loss: 10.4472 - val_output_1_loss: 5.3503 - val_output_2_loss: 5.0968 - val_output_1_accuracy: 0.0952 - val_output_2_accuracy: 0.0476\n",
      "Epoch 21/100\n",
      "1/1 [==============================] - 0s 131ms/step - loss: 7.4021 - output_1_loss: 3.5154 - output_2_loss: 3.8867 - output_1_accuracy: 0.0617 - output_2_accuracy: 0.0370 - val_loss: 10.6148 - val_output_1_loss: 5.3875 - val_output_2_loss: 5.2273 - val_output_1_accuracy: 0.0476 - val_output_2_accuracy: 0.0476\n",
      "Epoch 22/100\n",
      "1/1 [==============================] - 0s 125ms/step - loss: 7.7928 - output_1_loss: 3.7011 - output_2_loss: 4.0916 - output_1_accuracy: 0.0370 - output_2_accuracy: 0.0617 - val_loss: 10.7914 - val_output_1_loss: 5.4129 - val_output_2_loss: 5.3785 - val_output_1_accuracy: 0.0000e+00 - val_output_2_accuracy: 0.0476\n",
      "Epoch 23/100\n",
      "1/1 [==============================] - 0s 138ms/step - loss: 7.3553 - output_1_loss: 3.6889 - output_2_loss: 3.6664 - output_1_accuracy: 0.0494 - output_2_accuracy: 0.0741 - val_loss: 10.9347 - val_output_1_loss: 5.4257 - val_output_2_loss: 5.5090 - val_output_1_accuracy: 0.0000e+00 - val_output_2_accuracy: 0.0476\n",
      "Epoch 24/100\n",
      "1/1 [==============================] - 0s 131ms/step - loss: 7.6368 - output_1_loss: 3.6865 - output_2_loss: 3.9504 - output_1_accuracy: 0.0864 - output_2_accuracy: 0.0494 - val_loss: 10.9967 - val_output_1_loss: 5.4028 - val_output_2_loss: 5.5939 - val_output_1_accuracy: 0.0476 - val_output_2_accuracy: 0.0476\n",
      "Epoch 25/100\n",
      "1/1 [==============================] - 0s 135ms/step - loss: 7.3801 - output_1_loss: 3.4755 - output_2_loss: 3.9046 - output_1_accuracy: 0.0741 - output_2_accuracy: 0.0741 - val_loss: 11.0815 - val_output_1_loss: 5.4156 - val_output_2_loss: 5.6659 - val_output_1_accuracy: 0.0952 - val_output_2_accuracy: 0.0476\n",
      "Epoch 26/100\n",
      "1/1 [==============================] - 0s 140ms/step - loss: 7.4506 - output_1_loss: 3.5345 - output_2_loss: 3.9161 - output_1_accuracy: 0.0617 - output_2_accuracy: 0.0370 - val_loss: 11.1013 - val_output_1_loss: 5.4382 - val_output_2_loss: 5.6631 - val_output_1_accuracy: 0.0952 - val_output_2_accuracy: 0.0476\n",
      "Epoch 27/100\n",
      "1/1 [==============================] - 0s 132ms/step - loss: 7.3620 - output_1_loss: 3.5912 - output_2_loss: 3.7708 - output_1_accuracy: 0.0247 - output_2_accuracy: 0.0864 - val_loss: 11.0857 - val_output_1_loss: 5.4181 - val_output_2_loss: 5.6676 - val_output_1_accuracy: 0.0952 - val_output_2_accuracy: 0.0476\n",
      "Epoch 28/100\n",
      "1/1 [==============================] - 0s 153ms/step - loss: 7.1364 - output_1_loss: 3.4869 - output_2_loss: 3.6495 - output_1_accuracy: 0.0741 - output_2_accuracy: 0.0617 - val_loss: 11.0052 - val_output_1_loss: 5.3548 - val_output_2_loss: 5.6504 - val_output_1_accuracy: 0.0952 - val_output_2_accuracy: 0.0476\n",
      "Epoch 29/100\n",
      "1/1 [==============================] - 0s 137ms/step - loss: 7.3375 - output_1_loss: 3.5946 - output_2_loss: 3.7429 - output_1_accuracy: 0.0617 - output_2_accuracy: 0.0864 - val_loss: 10.9397 - val_output_1_loss: 5.2878 - val_output_2_loss: 5.6519 - val_output_1_accuracy: 0.0476 - val_output_2_accuracy: 0.0476\n",
      "Epoch 30/100\n",
      "1/1 [==============================] - 0s 133ms/step - loss: 7.1729 - output_1_loss: 3.4302 - output_2_loss: 3.7426 - output_1_accuracy: 0.0741 - output_2_accuracy: 0.0494 - val_loss: 10.9702 - val_output_1_loss: 5.2356 - val_output_2_loss: 5.7345 - val_output_1_accuracy: 0.0000e+00 - val_output_2_accuracy: 0.0476\n",
      "Epoch 31/100\n",
      "1/1 [==============================] - ETA: 0s - loss: 7.2858 - output_1_loss: 3.5925 - output_2_loss: 3.6933 - output_1_accuracy: 0.0617 - output_2_accuracy: 0.061 - 0s 169ms/step - loss: 7.2858 - output_1_loss: 3.5925 - output_2_loss: 3.6933 - output_1_accuracy: 0.0617 - output_2_accuracy: 0.0617 - val_loss: 11.0380 - val_output_1_loss: 5.2345 - val_output_2_loss: 5.8035 - val_output_1_accuracy: 0.0000e+00 - val_output_2_accuracy: 0.0476\n",
      "Epoch 32/100\n",
      "1/1 [==============================] - 0s 129ms/step - loss: 6.9457 - output_1_loss: 3.4111 - output_2_loss: 3.5346 - output_1_accuracy: 0.0988 - output_2_accuracy: 0.0370 - val_loss: 11.0658 - val_output_1_loss: 5.2532 - val_output_2_loss: 5.8126 - val_output_1_accuracy: 0.0000e+00 - val_output_2_accuracy: 0.0476\n",
      "Epoch 33/100\n",
      "1/1 [==============================] - 0s 140ms/step - loss: 7.0744 - output_1_loss: 3.3918 - output_2_loss: 3.6826 - output_1_accuracy: 0.0988 - output_2_accuracy: 0.0247 - val_loss: 11.0846 - val_output_1_loss: 5.2904 - val_output_2_loss: 5.7942 - val_output_1_accuracy: 0.0000e+00 - val_output_2_accuracy: 0.0476\n",
      "Epoch 34/100\n",
      "1/1 [==============================] - 0s 137ms/step - loss: 7.1359 - output_1_loss: 3.4631 - output_2_loss: 3.6728 - output_1_accuracy: 0.0741 - output_2_accuracy: 0.0247 - val_loss: 11.1242 - val_output_1_loss: 5.3476 - val_output_2_loss: 5.7766 - val_output_1_accuracy: 0.0476 - val_output_2_accuracy: 0.0476\n",
      "Epoch 35/100\n",
      "1/1 [==============================] - 0s 137ms/step - loss: 7.0389 - output_1_loss: 3.4607 - output_2_loss: 3.5782 - output_1_accuracy: 0.0370 - output_2_accuracy: 0.0494 - val_loss: 11.1705 - val_output_1_loss: 5.4153 - val_output_2_loss: 5.7552 - val_output_1_accuracy: 0.0476 - val_output_2_accuracy: 0.0000e+00\n",
      "Epoch 36/100\n",
      "1/1 [==============================] - 0s 133ms/step - loss: 6.9280 - output_1_loss: 3.3221 - output_2_loss: 3.6058 - output_1_accuracy: 0.0864 - output_2_accuracy: 0.0617 - val_loss: 11.2217 - val_output_1_loss: 5.5080 - val_output_2_loss: 5.7137 - val_output_1_accuracy: 0.0476 - val_output_2_accuracy: 0.0000e+00\n",
      "Epoch 37/100\n",
      "1/1 [==============================] - 0s 130ms/step - loss: 7.1221 - output_1_loss: 3.4858 - output_2_loss: 3.6363 - output_1_accuracy: 0.0741 - output_2_accuracy: 0.0617 - val_loss: 11.2641 - val_output_1_loss: 5.5724 - val_output_2_loss: 5.6918 - val_output_1_accuracy: 0.0476 - val_output_2_accuracy: 0.0476\n",
      "Epoch 38/100\n",
      "1/1 [==============================] - 0s 137ms/step - loss: 7.2154 - output_1_loss: 3.5544 - output_2_loss: 3.6610 - output_1_accuracy: 0.0494 - output_2_accuracy: 0.0247 - val_loss: 11.3065 - val_output_1_loss: 5.6187 - val_output_2_loss: 5.6877 - val_output_1_accuracy: 0.0476 - val_output_2_accuracy: 0.0476\n",
      "Epoch 39/100\n",
      "1/1 [==============================] - 0s 138ms/step - loss: 6.6888 - output_1_loss: 3.1996 - output_2_loss: 3.4892 - output_1_accuracy: 0.0741 - output_2_accuracy: 0.0370 - val_loss: 11.3610 - val_output_1_loss: 5.6460 - val_output_2_loss: 5.7151 - val_output_1_accuracy: 0.0000e+00 - val_output_2_accuracy: 0.0476\n",
      "Epoch 40/100\n",
      "1/1 [==============================] - 0s 137ms/step - loss: 6.9087 - output_1_loss: 3.3871 - output_2_loss: 3.5216 - output_1_accuracy: 0.0494 - output_2_accuracy: 0.1111 - val_loss: 11.3884 - val_output_1_loss: 5.6582 - val_output_2_loss: 5.7302 - val_output_1_accuracy: 0.0000e+00 - val_output_2_accuracy: 0.0476\n",
      "Epoch 41/100\n",
      "1/1 [==============================] - 0s 131ms/step - loss: 6.8891 - output_1_loss: 3.3318 - output_2_loss: 3.5573 - output_1_accuracy: 0.0617 - output_2_accuracy: 0.0617 - val_loss: 11.3913 - val_output_1_loss: 5.6740 - val_output_2_loss: 5.7173 - val_output_1_accuracy: 0.0000e+00 - val_output_2_accuracy: 0.0476\n",
      "Epoch 42/100\n",
      "1/1 [==============================] - 0s 138ms/step - loss: 6.8111 - output_1_loss: 3.3542 - output_2_loss: 3.4569 - output_1_accuracy: 0.0988 - output_2_accuracy: 0.1111 - val_loss: 11.3842 - val_output_1_loss: 5.7029 - val_output_2_loss: 5.6813 - val_output_1_accuracy: 0.0000e+00 - val_output_2_accuracy: 0.0476\n",
      "Epoch 43/100\n",
      "1/1 [==============================] - 0s 135ms/step - loss: 6.8248 - output_1_loss: 3.3220 - output_2_loss: 3.5028 - output_1_accuracy: 0.0864 - output_2_accuracy: 0.0864 - val_loss: 11.4562 - val_output_1_loss: 5.7271 - val_output_2_loss: 5.7291 - val_output_1_accuracy: 0.0000e+00 - val_output_2_accuracy: 0.0476\n",
      "Epoch 44/100\n",
      "1/1 [==============================] - 0s 133ms/step - loss: 6.9312 - output_1_loss: 3.4278 - output_2_loss: 3.5034 - output_1_accuracy: 0.0988 - output_2_accuracy: 0.0494 - val_loss: 11.5177 - val_output_1_loss: 5.7204 - val_output_2_loss: 5.7973 - val_output_1_accuracy: 0.0000e+00 - val_output_2_accuracy: 0.0476\n",
      "Epoch 45/100\n",
      "1/1 [==============================] - 0s 134ms/step - loss: 7.0376 - output_1_loss: 3.3892 - output_2_loss: 3.6484 - output_1_accuracy: 0.1111 - output_2_accuracy: 0.0617 - val_loss: 11.5519 - val_output_1_loss: 5.7125 - val_output_2_loss: 5.8394 - val_output_1_accuracy: 0.0000e+00 - val_output_2_accuracy: 0.0476\n",
      "Epoch 46/100\n",
      "1/1 [==============================] - 0s 135ms/step - loss: 6.7631 - output_1_loss: 3.3615 - output_2_loss: 3.4017 - output_1_accuracy: 0.0617 - output_2_accuracy: 0.0864 - val_loss: 11.5486 - val_output_1_loss: 5.6931 - val_output_2_loss: 5.8555 - val_output_1_accuracy: 0.0476 - val_output_2_accuracy: 0.0476\n",
      "Epoch 47/100\n",
      "1/1 [==============================] - 0s 135ms/step - loss: 6.6659 - output_1_loss: 3.3200 - output_2_loss: 3.3459 - output_1_accuracy: 0.0741 - output_2_accuracy: 0.0864 - val_loss: 11.5551 - val_output_1_loss: 5.6754 - val_output_2_loss: 5.8797 - val_output_1_accuracy: 0.0476 - val_output_2_accuracy: 0.0476\n",
      "Epoch 48/100\n",
      "1/1 [==============================] - 0s 136ms/step - loss: 6.6598 - output_1_loss: 3.2412 - output_2_loss: 3.4186 - output_1_accuracy: 0.1358 - output_2_accuracy: 0.1111 - val_loss: 11.5251 - val_output_1_loss: 5.6344 - val_output_2_loss: 5.8907 - val_output_1_accuracy: 0.0952 - val_output_2_accuracy: 0.0476\n",
      "Epoch 49/100\n",
      "1/1 [==============================] - 0s 132ms/step - loss: 6.7196 - output_1_loss: 3.2045 - output_2_loss: 3.5151 - output_1_accuracy: 0.0617 - output_2_accuracy: 0.0741 - val_loss: 11.4516 - val_output_1_loss: 5.5875 - val_output_2_loss: 5.8641 - val_output_1_accuracy: 0.0476 - val_output_2_accuracy: 0.0476\n",
      "Epoch 50/100\n",
      "1/1 [==============================] - 0s 136ms/step - loss: 6.8790 - output_1_loss: 3.3754 - output_2_loss: 3.5036 - output_1_accuracy: 0.0617 - output_2_accuracy: 0.0617 - val_loss: 11.3869 - val_output_1_loss: 5.5458 - val_output_2_loss: 5.8411 - val_output_1_accuracy: 0.0952 - val_output_2_accuracy: 0.0476\n",
      "Epoch 51/100\n",
      "1/1 [==============================] - 0s 136ms/step - loss: 6.6411 - output_1_loss: 3.2599 - output_2_loss: 3.3812 - output_1_accuracy: 0.1235 - output_2_accuracy: 0.1358 - val_loss: 11.3294 - val_output_1_loss: 5.5222 - val_output_2_loss: 5.8072 - val_output_1_accuracy: 0.0476 - val_output_2_accuracy: 0.0476\n",
      "Epoch 52/100\n",
      "1/1 [==============================] - 0s 140ms/step - loss: 6.8553 - output_1_loss: 3.3226 - output_2_loss: 3.5328 - output_1_accuracy: 0.0988 - output_2_accuracy: 0.0741 - val_loss: 11.3034 - val_output_1_loss: 5.5325 - val_output_2_loss: 5.7710 - val_output_1_accuracy: 0.0476 - val_output_2_accuracy: 0.0476\n",
      "Epoch 53/100\n",
      "1/1 [==============================] - 0s 139ms/step - loss: 6.7433 - output_1_loss: 3.2032 - output_2_loss: 3.5401 - output_1_accuracy: 0.1605 - output_2_accuracy: 0.0741 - val_loss: 11.2919 - val_output_1_loss: 5.5584 - val_output_2_loss: 5.7336 - val_output_1_accuracy: 0.0476 - val_output_2_accuracy: 0.0476\n",
      "Epoch 54/100\n",
      "1/1 [==============================] - 0s 139ms/step - loss: 6.5965 - output_1_loss: 3.1819 - output_2_loss: 3.4147 - output_1_accuracy: 0.1111 - output_2_accuracy: 0.0864 - val_loss: 11.3478 - val_output_1_loss: 5.6034 - val_output_2_loss: 5.7444 - val_output_1_accuracy: 0.0476 - val_output_2_accuracy: 0.0476\n",
      "Epoch 55/100\n",
      "1/1 [==============================] - 0s 140ms/step - loss: 6.6581 - output_1_loss: 3.2870 - output_2_loss: 3.3711 - output_1_accuracy: 0.0741 - output_2_accuracy: 0.0988 - val_loss: 11.4072 - val_output_1_loss: 5.6711 - val_output_2_loss: 5.7361 - val_output_1_accuracy: 0.0476 - val_output_2_accuracy: 0.0476\n",
      "Epoch 56/100\n",
      "1/1 [==============================] - 0s 133ms/step - loss: 6.7326 - output_1_loss: 3.2854 - output_2_loss: 3.4472 - output_1_accuracy: 0.0617 - output_2_accuracy: 0.0617 - val_loss: 11.4888 - val_output_1_loss: 5.7149 - val_output_2_loss: 5.7739 - val_output_1_accuracy: 0.0476 - val_output_2_accuracy: 0.0476\n",
      "Epoch 57/100\n",
      "1/1 [==============================] - 0s 137ms/step - loss: 6.6084 - output_1_loss: 3.3026 - output_2_loss: 3.3058 - output_1_accuracy: 0.0494 - output_2_accuracy: 0.0617 - val_loss: 11.5846 - val_output_1_loss: 5.7493 - val_output_2_loss: 5.8353 - val_output_1_accuracy: 0.0476 - val_output_2_accuracy: 0.0476\n",
      "Epoch 58/100\n",
      "1/1 [==============================] - 0s 140ms/step - loss: 6.6547 - output_1_loss: 3.2528 - output_2_loss: 3.4019 - output_1_accuracy: 0.1111 - output_2_accuracy: 0.1358 - val_loss: 11.6951 - val_output_1_loss: 5.7984 - val_output_2_loss: 5.8967 - val_output_1_accuracy: 0.0476 - val_output_2_accuracy: 0.0476\n",
      "Epoch 59/100\n",
      "1/1 [==============================] - 0s 136ms/step - loss: 6.8134 - output_1_loss: 3.3453 - output_2_loss: 3.4681 - output_1_accuracy: 0.0864 - output_2_accuracy: 0.1111 - val_loss: 11.7304 - val_output_1_loss: 5.8204 - val_output_2_loss: 5.9099 - val_output_1_accuracy: 0.0476 - val_output_2_accuracy: 0.0476\n",
      "Epoch 60/100\n",
      "1/1 [==============================] - 0s 135ms/step - loss: 6.7267 - output_1_loss: 3.3332 - output_2_loss: 3.3935 - output_1_accuracy: 0.1111 - output_2_accuracy: 0.0988 - val_loss: 11.7854 - val_output_1_loss: 5.8314 - val_output_2_loss: 5.9541 - val_output_1_accuracy: 0.0952 - val_output_2_accuracy: 0.0476\n",
      "Epoch 61/100\n",
      "1/1 [==============================] - 0s 135ms/step - loss: 6.6124 - output_1_loss: 3.2329 - output_2_loss: 3.3796 - output_1_accuracy: 0.0741 - output_2_accuracy: 0.0988 - val_loss: 11.7628 - val_output_1_loss: 5.8286 - val_output_2_loss: 5.9342 - val_output_1_accuracy: 0.0952 - val_output_2_accuracy: 0.0476\n",
      "Epoch 62/100\n",
      "1/1 [==============================] - 0s 139ms/step - loss: 6.6697 - output_1_loss: 3.3285 - output_2_loss: 3.3412 - output_1_accuracy: 0.0494 - output_2_accuracy: 0.1111 - val_loss: 11.7250 - val_output_1_loss: 5.7917 - val_output_2_loss: 5.9332 - val_output_1_accuracy: 0.0476 - val_output_2_accuracy: 0.0476\n",
      "Epoch 63/100\n",
      "1/1 [==============================] - 0s 135ms/step - loss: 6.7759 - output_1_loss: 3.2281 - output_2_loss: 3.5478 - output_1_accuracy: 0.0617 - output_2_accuracy: 0.0988 - val_loss: 11.6516 - val_output_1_loss: 5.7741 - val_output_2_loss: 5.8774 - val_output_1_accuracy: 0.0476 - val_output_2_accuracy: 0.0476\n",
      "Epoch 64/100\n",
      "1/1 [==============================] - 0s 139ms/step - loss: 6.7328 - output_1_loss: 3.2641 - output_2_loss: 3.4686 - output_1_accuracy: 0.0988 - output_2_accuracy: 0.0741 - val_loss: 11.5659 - val_output_1_loss: 5.7375 - val_output_2_loss: 5.8285 - val_output_1_accuracy: 0.0476 - val_output_2_accuracy: 0.0476\n",
      "Epoch 65/100\n",
      "1/1 [==============================] - 0s 135ms/step - loss: 6.6116 - output_1_loss: 3.2227 - output_2_loss: 3.3889 - output_1_accuracy: 0.1235 - output_2_accuracy: 0.0864 - val_loss: 11.5101 - val_output_1_loss: 5.7168 - val_output_2_loss: 5.7933 - val_output_1_accuracy: 0.0476 - val_output_2_accuracy: 0.0476\n",
      "Epoch 66/100\n",
      "1/1 [==============================] - 0s 138ms/step - loss: 6.5526 - output_1_loss: 3.1993 - output_2_loss: 3.3532 - output_1_accuracy: 0.0988 - output_2_accuracy: 0.0617 - val_loss: 11.4781 - val_output_1_loss: 5.7144 - val_output_2_loss: 5.7636 - val_output_1_accuracy: 0.0476 - val_output_2_accuracy: 0.0476\n",
      "Epoch 67/100\n",
      "1/1 [==============================] - 0s 138ms/step - loss: 6.6772 - output_1_loss: 3.2384 - output_2_loss: 3.4388 - output_1_accuracy: 0.0864 - output_2_accuracy: 0.0741 - val_loss: 11.5157 - val_output_1_loss: 5.7309 - val_output_2_loss: 5.7848 - val_output_1_accuracy: 0.0476 - val_output_2_accuracy: 0.0476\n",
      "Epoch 68/100\n",
      "1/1 [==============================] - 0s 134ms/step - loss: 6.7301 - output_1_loss: 3.3095 - output_2_loss: 3.4206 - output_1_accuracy: 0.0988 - output_2_accuracy: 0.1111 - val_loss: 11.5209 - val_output_1_loss: 5.7309 - val_output_2_loss: 5.7899 - val_output_1_accuracy: 0.0476 - val_output_2_accuracy: 0.0476\n",
      "Epoch 69/100\n",
      "1/1 [==============================] - 0s 141ms/step - loss: 6.6591 - output_1_loss: 3.1856 - output_2_loss: 3.4735 - output_1_accuracy: 0.0864 - output_2_accuracy: 0.0494 - val_loss: 11.5289 - val_output_1_loss: 5.7442 - val_output_2_loss: 5.7846 - val_output_1_accuracy: 0.0476 - val_output_2_accuracy: 0.0476\n",
      "Epoch 70/100\n",
      "1/1 [==============================] - 0s 148ms/step - loss: 6.6516 - output_1_loss: 3.2992 - output_2_loss: 3.3524 - output_1_accuracy: 0.0864 - output_2_accuracy: 0.0988 - val_loss: 11.5637 - val_output_1_loss: 5.7475 - val_output_2_loss: 5.8162 - val_output_1_accuracy: 0.0476 - val_output_2_accuracy: 0.0476\n",
      "Epoch 71/100\n",
      "1/1 [==============================] - 0s 140ms/step - loss: 6.6809 - output_1_loss: 3.2982 - output_2_loss: 3.3826 - output_1_accuracy: 0.0864 - output_2_accuracy: 0.0864 - val_loss: 11.5887 - val_output_1_loss: 5.7488 - val_output_2_loss: 5.8399 - val_output_1_accuracy: 0.0476 - val_output_2_accuracy: 0.0476\n",
      "Epoch 72/100\n",
      "1/1 [==============================] - 0s 137ms/step - loss: 6.4863 - output_1_loss: 3.1522 - output_2_loss: 3.3342 - output_1_accuracy: 0.0864 - output_2_accuracy: 0.0864 - val_loss: 11.5791 - val_output_1_loss: 5.7293 - val_output_2_loss: 5.8498 - val_output_1_accuracy: 0.0952 - val_output_2_accuracy: 0.0476\n",
      "Epoch 73/100\n",
      "1/1 [==============================] - 0s 134ms/step - loss: 6.6499 - output_1_loss: 3.1650 - output_2_loss: 3.4849 - output_1_accuracy: 0.1481 - output_2_accuracy: 0.0988 - val_loss: 11.5326 - val_output_1_loss: 5.7000 - val_output_2_loss: 5.8326 - val_output_1_accuracy: 0.0476 - val_output_2_accuracy: 0.0476\n",
      "Epoch 74/100\n",
      "1/1 [==============================] - 0s 142ms/step - loss: 6.7125 - output_1_loss: 3.3268 - output_2_loss: 3.3857 - output_1_accuracy: 0.0741 - output_2_accuracy: 0.1111 - val_loss: 11.4914 - val_output_1_loss: 5.6995 - val_output_2_loss: 5.7919 - val_output_1_accuracy: 0.0000e+00 - val_output_2_accuracy: 0.0476\n",
      "Epoch 75/100\n",
      "1/1 [==============================] - 0s 132ms/step - loss: 6.4717 - output_1_loss: 3.1803 - output_2_loss: 3.2914 - output_1_accuracy: 0.0988 - output_2_accuracy: 0.1481 - val_loss: 11.4454 - val_output_1_loss: 5.7233 - val_output_2_loss: 5.7221 - val_output_1_accuracy: 0.0476 - val_output_2_accuracy: 0.0476\n",
      "Epoch 76/100\n",
      "1/1 [==============================] - 0s 142ms/step - loss: 6.4626 - output_1_loss: 3.1965 - output_2_loss: 3.2661 - output_1_accuracy: 0.0370 - output_2_accuracy: 0.0741 - val_loss: 11.4241 - val_output_1_loss: 5.7315 - val_output_2_loss: 5.6926 - val_output_1_accuracy: 0.0476 - val_output_2_accuracy: 0.0476\n",
      "Epoch 77/100\n",
      "1/1 [==============================] - 0s 143ms/step - loss: 6.5903 - output_1_loss: 3.1654 - output_2_loss: 3.4250 - output_1_accuracy: 0.1728 - output_2_accuracy: 0.0617 - val_loss: 11.4433 - val_output_1_loss: 5.7171 - val_output_2_loss: 5.7262 - val_output_1_accuracy: 0.0476 - val_output_2_accuracy: 0.0476\n",
      "Epoch 78/100\n",
      "1/1 [==============================] - 0s 135ms/step - loss: 6.5405 - output_1_loss: 3.1814 - output_2_loss: 3.3591 - output_1_accuracy: 0.0864 - output_2_accuracy: 0.0617 - val_loss: 11.4662 - val_output_1_loss: 5.6984 - val_output_2_loss: 5.7678 - val_output_1_accuracy: 0.0476 - val_output_2_accuracy: 0.0476\n",
      "Epoch 79/100\n",
      "1/1 [==============================] - 0s 138ms/step - loss: 6.4564 - output_1_loss: 3.1080 - output_2_loss: 3.3484 - output_1_accuracy: 0.1111 - output_2_accuracy: 0.0741 - val_loss: 11.5477 - val_output_1_loss: 5.6925 - val_output_2_loss: 5.8552 - val_output_1_accuracy: 0.0476 - val_output_2_accuracy: 0.0476\n",
      "Epoch 80/100\n",
      "1/1 [==============================] - 0s 133ms/step - loss: 6.4601 - output_1_loss: 3.1193 - output_2_loss: 3.3408 - output_1_accuracy: 0.1358 - output_2_accuracy: 0.1111 - val_loss: 11.6262 - val_output_1_loss: 5.6738 - val_output_2_loss: 5.9524 - val_output_1_accuracy: 0.0476 - val_output_2_accuracy: 0.0476\n",
      "Epoch 81/100\n",
      "1/1 [==============================] - 0s 137ms/step - loss: 6.5081 - output_1_loss: 3.2142 - output_2_loss: 3.2938 - output_1_accuracy: 0.0864 - output_2_accuracy: 0.1111 - val_loss: 11.6761 - val_output_1_loss: 5.6826 - val_output_2_loss: 5.9935 - val_output_1_accuracy: 0.0476 - val_output_2_accuracy: 0.0476\n",
      "Epoch 82/100\n",
      "1/1 [==============================] - 0s 149ms/step - loss: 6.3726 - output_1_loss: 3.1593 - output_2_loss: 3.2133 - output_1_accuracy: 0.0864 - output_2_accuracy: 0.0864 - val_loss: 11.6873 - val_output_1_loss: 5.7100 - val_output_2_loss: 5.9773 - val_output_1_accuracy: 0.0476 - val_output_2_accuracy: 0.0476\n",
      "Epoch 83/100\n",
      "1/1 [==============================] - 0s 131ms/step - loss: 6.4221 - output_1_loss: 3.0962 - output_2_loss: 3.3259 - output_1_accuracy: 0.1358 - output_2_accuracy: 0.0741 - val_loss: 11.6976 - val_output_1_loss: 5.7310 - val_output_2_loss: 5.9665 - val_output_1_accuracy: 0.0952 - val_output_2_accuracy: 0.0476\n",
      "Epoch 84/100\n",
      "1/1 [==============================] - 0s 137ms/step - loss: 6.4370 - output_1_loss: 3.1719 - output_2_loss: 3.2651 - output_1_accuracy: 0.1235 - output_2_accuracy: 0.0864 - val_loss: 11.6862 - val_output_1_loss: 5.6970 - val_output_2_loss: 5.9892 - val_output_1_accuracy: 0.0952 - val_output_2_accuracy: 0.0476\n",
      "Epoch 85/100\n",
      "1/1 [==============================] - 0s 138ms/step - loss: 6.3741 - output_1_loss: 3.1070 - output_2_loss: 3.2671 - output_1_accuracy: 0.1975 - output_2_accuracy: 0.0988 - val_loss: 11.6254 - val_output_1_loss: 5.6334 - val_output_2_loss: 5.9920 - val_output_1_accuracy: 0.0476 - val_output_2_accuracy: 0.0476\n",
      "Epoch 86/100\n",
      "1/1 [==============================] - 0s 132ms/step - loss: 6.4557 - output_1_loss: 3.1895 - output_2_loss: 3.2662 - output_1_accuracy: 0.1235 - output_2_accuracy: 0.0741 - val_loss: 11.6129 - val_output_1_loss: 5.5891 - val_output_2_loss: 6.0238 - val_output_1_accuracy: 0.0476 - val_output_2_accuracy: 0.0476\n",
      "Epoch 87/100\n",
      "1/1 [==============================] - 0s 139ms/step - loss: 6.2544 - output_1_loss: 3.0711 - output_2_loss: 3.1834 - output_1_accuracy: 0.1481 - output_2_accuracy: 0.1358 - val_loss: 11.6684 - val_output_1_loss: 5.6091 - val_output_2_loss: 6.0593 - val_output_1_accuracy: 0.0476 - val_output_2_accuracy: 0.0476\n",
      "Epoch 88/100\n",
      "1/1 [==============================] - 0s 145ms/step - loss: 6.5161 - output_1_loss: 3.1695 - output_2_loss: 3.3467 - output_1_accuracy: 0.0741 - output_2_accuracy: 0.0617 - val_loss: 11.7292 - val_output_1_loss: 5.6789 - val_output_2_loss: 6.0504 - val_output_1_accuracy: 0.0476 - val_output_2_accuracy: 0.0476\n",
      "Epoch 89/100\n",
      "1/1 [==============================] - 0s 135ms/step - loss: 6.2818 - output_1_loss: 3.0975 - output_2_loss: 3.1843 - output_1_accuracy: 0.1358 - output_2_accuracy: 0.1358 - val_loss: 11.7666 - val_output_1_loss: 5.7712 - val_output_2_loss: 5.9954 - val_output_1_accuracy: 0.0476 - val_output_2_accuracy: 0.0476\n",
      "Epoch 90/100\n",
      "1/1 [==============================] - 0s 136ms/step - loss: 6.4134 - output_1_loss: 3.1283 - output_2_loss: 3.2850 - output_1_accuracy: 0.1235 - output_2_accuracy: 0.1111 - val_loss: 11.7998 - val_output_1_loss: 5.8584 - val_output_2_loss: 5.9414 - val_output_1_accuracy: 0.0952 - val_output_2_accuracy: 0.0476\n",
      "Epoch 91/100\n",
      "1/1 [==============================] - 0s 134ms/step - loss: 6.3009 - output_1_loss: 3.0959 - output_2_loss: 3.2049 - output_1_accuracy: 0.1235 - output_2_accuracy: 0.1235 - val_loss: 11.7187 - val_output_1_loss: 5.8221 - val_output_2_loss: 5.8966 - val_output_1_accuracy: 0.0476 - val_output_2_accuracy: 0.0476\n",
      "Epoch 92/100\n",
      "1/1 [==============================] - 0s 138ms/step - loss: 6.4491 - output_1_loss: 3.1186 - output_2_loss: 3.3305 - output_1_accuracy: 0.1358 - output_2_accuracy: 0.0988 - val_loss: 11.6549 - val_output_1_loss: 5.7741 - val_output_2_loss: 5.8808 - val_output_1_accuracy: 0.0000e+00 - val_output_2_accuracy: 0.0000e+00\n",
      "Epoch 93/100\n",
      "1/1 [==============================] - 0s 136ms/step - loss: 6.4722 - output_1_loss: 3.1646 - output_2_loss: 3.3076 - output_1_accuracy: 0.1111 - output_2_accuracy: 0.1235 - val_loss: 11.6314 - val_output_1_loss: 5.7995 - val_output_2_loss: 5.8319 - val_output_1_accuracy: 0.0000e+00 - val_output_2_accuracy: 0.0000e+00\n",
      "Epoch 94/100\n",
      "1/1 [==============================] - 0s 134ms/step - loss: 6.4134 - output_1_loss: 3.0508 - output_2_loss: 3.3626 - output_1_accuracy: 0.1235 - output_2_accuracy: 0.0617 - val_loss: 11.6595 - val_output_1_loss: 5.8691 - val_output_2_loss: 5.7905 - val_output_1_accuracy: 0.0000e+00 - val_output_2_accuracy: 0.0000e+00\n",
      "Epoch 95/100\n",
      "1/1 [==============================] - 0s 137ms/step - loss: 6.5008 - output_1_loss: 3.1796 - output_2_loss: 3.3212 - output_1_accuracy: 0.1111 - output_2_accuracy: 0.0617 - val_loss: 11.7889 - val_output_1_loss: 5.9597 - val_output_2_loss: 5.8292 - val_output_1_accuracy: 0.0476 - val_output_2_accuracy: 0.0476\n",
      "Epoch 96/100\n",
      "1/1 [==============================] - 0s 132ms/step - loss: 6.1952 - output_1_loss: 2.9956 - output_2_loss: 3.1995 - output_1_accuracy: 0.1481 - output_2_accuracy: 0.1358 - val_loss: 11.8489 - val_output_1_loss: 6.0145 - val_output_2_loss: 5.8344 - val_output_1_accuracy: 0.0476 - val_output_2_accuracy: 0.0476\n",
      "Epoch 97/100\n",
      "1/1 [==============================] - 0s 137ms/step - loss: 6.3209 - output_1_loss: 3.1151 - output_2_loss: 3.2059 - output_1_accuracy: 0.1358 - output_2_accuracy: 0.0864 - val_loss: 11.7600 - val_output_1_loss: 5.9459 - val_output_2_loss: 5.8141 - val_output_1_accuracy: 0.0476 - val_output_2_accuracy: 0.0476\n",
      "Epoch 98/100\n",
      "1/1 [==============================] - 0s 138ms/step - loss: 6.2338 - output_1_loss: 3.1159 - output_2_loss: 3.1179 - output_1_accuracy: 0.1235 - output_2_accuracy: 0.1111 - val_loss: 11.6035 - val_output_1_loss: 5.8447 - val_output_2_loss: 5.7588 - val_output_1_accuracy: 0.0476 - val_output_2_accuracy: 0.0000e+00\n",
      "Epoch 99/100\n",
      "1/1 [==============================] - 0s 134ms/step - loss: 6.1721 - output_1_loss: 3.0149 - output_2_loss: 3.1572 - output_1_accuracy: 0.1111 - output_2_accuracy: 0.0988 - val_loss: 11.6405 - val_output_1_loss: 5.8214 - val_output_2_loss: 5.8191 - val_output_1_accuracy: 0.0476 - val_output_2_accuracy: 0.0000e+00\n",
      "Epoch 100/100\n",
      "1/1 [==============================] - 0s 134ms/step - loss: 6.1146 - output_1_loss: 3.0010 - output_2_loss: 3.1135 - output_1_accuracy: 0.1728 - output_2_accuracy: 0.0864 - val_loss: 11.6722 - val_output_1_loss: 5.8424 - val_output_2_loss: 5.8297 - val_output_1_accuracy: 0.0476 - val_output_2_accuracy: 0.0000e+00\n"
     ]
    }
   ],
   "source": [
    "history = retriever.fit([tensor_context, tensor_question],[tensor_answer_start,tensor_answer_stop],\n",
    "                epochs=100,\n",
    "                batch_size=n_train, # on a pas bcp de données alors un batch peut tout prendre à la fois\n",
    "                shuffle=True,\n",
    "                #validation_data=([tensor_context, tensor_question],[tensor_answer_start,tensor_answer_stop]),\n",
    "                validation_split=0.2,\n",
    "                verbose=1)"
   ]
  },
  {
   "cell_type": "code",
   "execution_count": 37,
   "metadata": {},
   "outputs": [],
   "source": [
    "# retriever.save_weights('./checkpoints/retriever_QAnet_20000')"
   ]
  },
  {
   "cell_type": "code",
   "execution_count": 38,
   "metadata": {},
   "outputs": [],
   "source": [
    "# Restore the weights\n",
    "# retriever.load_weights('./checkpoints/retriever_QAnet_20000')"
   ]
  },
  {
   "cell_type": "markdown",
   "metadata": {},
   "source": [
    "Montrer les courbes d'apprentissage du modèle"
   ]
  },
  {
   "cell_type": "code",
   "execution_count": 31,
   "metadata": {},
   "outputs": [
    {
     "data": {
      "text/plain": [
       "dict_keys(['loss', 'output_1_loss', 'output_2_loss', 'output_1_accuracy', 'output_2_accuracy', 'val_loss', 'val_output_1_loss', 'val_output_2_loss', 'val_output_1_accuracy', 'val_output_2_accuracy'])"
      ]
     },
     "execution_count": 31,
     "metadata": {},
     "output_type": "execute_result"
    }
   ],
   "source": [
    "history.history.keys()"
   ]
  },
  {
   "cell_type": "markdown",
   "metadata": {},
   "source": [
    "Faire le plot"
   ]
  },
  {
   "cell_type": "code",
   "execution_count": 38,
   "metadata": {},
   "outputs": [
    {
     "data": {
      "image/png": "[encoded data removed]",
      "text/plain": [
       "<Figure size 432x288 with 1 Axes>"
      ]
     },
     "metadata": {
      "needs_background": "light"
     },
     "output_type": "display_data"
    }
   ],
   "source": [
    "plt.figure(1)\n",
    "plt.plot(history.history['output_1_loss'])\n",
    "plt.plot(history.history['output_2_loss'])\n",
    "plt.plot(history.history['val_output_1_loss'])\n",
    "plt.plot(history.history['val_output_2_loss'])\n",
    "plt.grid()\n",
    "plt.xlabel('epoch')\n",
    "plt.ylabel('Loss')\n",
    "plt.title('Loss')\n",
    "plt.legend(['loss_train_1', 'loss_train_2', 'loss_test_1', 'loss_test_2'], loc='best')\n",
    "plt.savefig('loss.pdf')"
   ]
  },
  {
   "cell_type": "code",
   "execution_count": 39,
   "metadata": {},
   "outputs": [
    {
     "data": {
      "image/png": "[encoded data removed]",
      "text/plain": [
       "<Figure size 432x288 with 1 Axes>"
      ]
     },
     "metadata": {
      "needs_background": "light"
     },
     "output_type": "display_data"
    }
   ],
   "source": [
    "plt.figure(1)\n",
    "plt.plot(history.history['output_1_accuracy'])\n",
    "plt.plot(history.history['output_2_accuracy'])\n",
    "plt.plot(history.history['val_output_1_accuracy'])\n",
    "plt.plot(history.history['val_output_2_accuracy'])\n",
    "plt.grid()\n",
    "plt.xlabel('epoch')\n",
    "plt.ylabel('Accuracy')\n",
    "plt.title('Accuracy')\n",
    "plt.legend(['acc_train_1', 'acc_train_2', 'acc_test_1', 'acc_test_2'], loc='best')\n",
    "plt.savefig('accuracy.pdf')"
   ]
  },
  {
   "cell_type": "code",
   "execution_count": 103,
   "metadata": {},
   "outputs": [],
   "source": [
    "def prediction_dataset(indice_test,dataset,tensor_context,tensor_question):\n",
    "    print(dataset[indice_test])\n",
    "    acc = [tf.expand_dims(tensor_context[indice_test,:], axis=0),tf.expand_dims(tensor_question[indice_test,:], axis=0)]\n",
    "    res = retriever.predict(acc)\n",
    "    #print(res[0].shape,res[1].shape)\n",
    "\n",
    "    ind_start_pred = tf.math.argmax(res[0][0])\n",
    "    ind_stop_pred = tf.math.argmax(res[1][0])\n",
    "    print(f\"prédiction proba start: {ind_start_pred}\")\n",
    "    print(f\"prédiction proba stop:  {ind_stop_pred}\")\n",
    "    return ' '.join(dataset[indice_test][0].split(' ')[ind_start_pred:ind_stop_pred]) # on affiche la réponse en toutes lettres"
   ]
  },
  {
   "cell_type": "code",
   "execution_count": 104,
   "metadata": {},
   "outputs": [
    {
     "name": "stdout",
     "output_type": "stream",
     "text": [
      "[\"Le Règlement de Scolarité est approuvé par le Conseil d' Administration de l' École après consultation du Conseil des Études .\", 'Qui approuve le règlement de scolarité ?', \"Conseil d' Administration de l' École\", 8, 14]\n",
      "prédiction proba start: 8\n",
      "prédiction proba stop:  14\n"
     ]
    },
    {
     "data": {
      "text/plain": [
       "\"Conseil d' Administration de l' École\""
      ]
     },
     "execution_count": 104,
     "metadata": {},
     "output_type": "execute_result"
    }
   ],
   "source": [
    "prediction_dataset(0,dataset,tensor_context,tensor_question)"
   ]
  },
  {
   "cell_type": "code",
   "execution_count": 153,
   "metadata": {},
   "outputs": [
    {
     "name": "stdout",
     "output_type": "stream",
     "text": [
      "Données d'entraînement:\n",
      "(102, 185)\n",
      "(102, 20)\n",
      "données test:\n",
      "(1, 185)\n",
      "(1, 20)\n"
     ]
    }
   ],
   "source": [
    "print(\"Données d'entraînement:\")\n",
    "print(tensor_context.shape)\n",
    "print(tensor_question.shape)\n",
    "\n",
    "ctxt = [\"L'élève doit passer l'examen de seconde session si le directeur le décide pour valider sa mobilité.\"]\n",
    "qu   = [\"Qui doit passer un examen de seconde session ?\"]\n",
    "ctxt_tra = [traitement_nlp(ar) for ar in ctxt]\n",
    "qu_tra   = [traitement_nlp(br) for br in qu]\n",
    "\n",
    "ctxt_ind = [g[0] for g in ctxt_tra]\n",
    "qu_ind   = [g[0] for g in qu_tra]\n",
    "\n",
    "ctxt_test = tokenizer.texts_to_sequences(ctxt_ind)\n",
    "qu_test = tokenizer.texts_to_sequences(qu_ind)\n",
    "for qu in qu_test:\n",
    "    qu += (tensor_question.shape[1]-len(qu))*[0]\n",
    "for ctxt in ctxt_test:\n",
    "    ctxt += (tensor_context.shape[1]-len(ctxt))*[0]\n",
    "\n",
    "tensor_context_test = tf.keras.preprocessing.sequence.pad_sequences(ctxt_test,padding='post')\n",
    "tensor_question_test = tf.keras.preprocessing.sequence.pad_sequences(qu_test,padding='post')\n",
    "print(\"données test:\")\n",
    "print(tensor_context_test.shape)\n",
    "print(tensor_question_test.shape)"
   ]
  },
  {
   "cell_type": "code",
   "execution_count": 154,
   "metadata": {},
   "outputs": [
    {
     "name": "stdout",
     "output_type": "stream",
     "text": [
      "prédiction proba start: 4\n",
      "prédiction proba stop:  8\n"
     ]
    },
    {
     "data": {
      "text/plain": [
       "\"l' examen de seconde session\""
      ]
     },
     "execution_count": 154,
     "metadata": {},
     "output_type": "execute_result"
    }
   ],
   "source": [
    "res = retriever.predict([tensor_context_test,tensor_question_test])\n",
    "j = 0 # indice du couple dans le batch qu'on prédit\n",
    "ind_start_pred = tf.math.argmax(res[0][j])\n",
    "ind_stop_pred = tf.math.argmax(res[1][j])\n",
    "print(f\"prédiction proba start: {ind_start_pred}\")\n",
    "print(f\"prédiction proba stop:  {ind_stop_pred}\")\n",
    "reponse = ' '.join(ctxt_tra[j][0].split(' ')[ind_start_pred:ind_stop_pred+1]) # +1 car semi ouvert en python et l'entraînement prenait l'indice réel\n",
    "reponse"
   ]
  },
  {
   "cell_type": "code",
   "execution_count": 160,
   "metadata": {},
   "outputs": [
    {
     "data": {
      "image/png": "[encoded data removed]",
      "text/plain": [
       "<Figure size 576x288 with 1 Axes>"
      ]
     },
     "metadata": {
      "needs_background": "light"
     },
     "output_type": "display_data"
    }
   ],
   "source": [
    "length_ctxt = len(ctxt_tra[j][1])\n",
    "fig, ax = plt.subplots(figsize=(8,4))\n",
    "plt.plot(range(length_ctxt),np.array(res[0][j])[:length_ctxt],color='red',label='start',marker='*') # 0 pour ind start\n",
    "plt.plot(range(length_ctxt),np.array(res[1][j])[:length_ctxt],color='blue',label='stop',marker='*') # 1 pour ind stop\n",
    "ax.set_xticks(range(length_ctxt))\n",
    "ax.set_xticklabels(ctxt_tra[j][1])\n",
    "plt.setp(ax.get_xticklabels(), rotation=60, ha=\"right\",\n",
    "         rotation_mode=\"anchor\")\n",
    "plt.legend()\n",
    "plt.title(f\"Réponse donnée: {reponse}\")\n",
    "plt.grid(True)\n",
    "plt.savefig('prediction.pdf', bbox_inches='tight')\n",
    "plt.show()"
   ]
  },
  {
   "cell_type": "code",
   "execution_count": null,
   "metadata": {},
   "outputs": [],
   "source": []
  },
  {
   "cell_type": "code",
   "execution_count": null,
   "metadata": {},
   "outputs": [],
   "source": []
  }
 ],
 "metadata": {
  "interpreter": {
   "hash": "97ddd83c14480b84975401bb9e160e96ea8a34f7ba8a860dc78b0906f9559c8c"
  },
  "kernelspec": {
   "display_name": "Python 3 (ipykernel)",
   "language": "python",
   "name": "python3"
  },
  "language_info": {
   "codemirror_mode": {
    "name": "ipython",
    "version": 3
   },
   "file_extension": ".py",
   "mimetype": "text/x-python",
   "name": "python",
   "nbconvert_exporter": "python",
   "pygments_lexer": "ipython3",
   "version": "3.9.9"
  }
 },
 "nbformat": 4,
 "nbformat_minor": 4
}
