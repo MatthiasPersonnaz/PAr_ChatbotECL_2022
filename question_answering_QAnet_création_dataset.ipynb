{
 "cells": [
  {
   "cell_type": "markdown",
   "metadata": {},
   "source": [
    "# Modèle QANet pour du *Question Answering*\n",
    "Base de données: https://rajpurkar.github.io/SQuAD-explorer/\n",
    "\n",
    "## Importation des données"
   ]
  },
  {
   "cell_type": "code",
   "execution_count": 31,
   "metadata": {},
   "outputs": [
    {
     "name": "stdout",
     "output_type": "stream",
     "text": [
      "\\begin{table}\n",
      "\\centering\n",
      "\\caption[Questions et réponses du dataset de la scolarité]{5 premières phrases du dataset constitué avec les documents de la scolarité}\n",
      "\\begin{tabular}{ll}\n",
      "\\toprule\n",
      "                                          question &                                           contexte \\\\\n",
      "\\midrule\n",
      "          Qui approuve le règlement de scolarité ? & Le Règlement de Scolarité est approuvé par le C... \\\\\n",
      "Par quelle voie s'effectue l'admission en premi... & L'admission en 1ère année de la formation ingén... \\\\\n",
      "Comment est l'inscription pour les élèves en pr... & Pour les élèves ayant signé un contrat de profe... \\\\\n",
      " Que les élèves doivent-ils avoir lu et approuvé ? & Les élèves ont lu, approuvé et signé les charte... \\\\\n",
      "  Pour quoi la formation peut-elle être aménagée ? & La formation peut être aménagée pour effectuer ... \\\\\n",
      "            Qu'est-ce qu'une action de formation ? & Une Action de Formation est un ensemble cohéren... \\\\\n",
      "\\bottomrule\n",
      "\\end{tabular}\n",
      "\\end{table}\n",
      "\n"
     ]
    }
   ],
   "source": [
    "import pandas as pd\n",
    "df = pd.read_excel('./questions_scolarité.xlsx')\n",
    "pd.DataFrame.dropna(df, axis='index', how='any', thresh=3, inplace=True) # on veut au plus 0 erreurs \"NaN\" par ligne\n",
    "print(df.loc[:5,['question','contexte']].to_latex(index=False,caption=(\"5 premières phrases du dataset constitué avec les documents de la scolarité\",\"Questions et réponses du dataset de la scolarité\")))"
   ]
  },
  {
   "cell_type": "code",
   "execution_count": 28,
   "metadata": {},
   "outputs": [
    {
     "data": {
      "text/html": [
       "<div>\n",
       "<style scoped>\n",
       "    .dataframe tbody tr th:only-of-type {\n",
       "        vertical-align: middle;\n",
       "    }\n",
       "\n",
       "    .dataframe tbody tr th {\n",
       "        vertical-align: top;\n",
       "    }\n",
       "\n",
       "    .dataframe thead th {\n",
       "        text-align: right;\n",
       "    }\n",
       "</style>\n",
       "<table border=\"1\" class=\"dataframe\">\n",
       "  <thead>\n",
       "    <tr style=\"text-align: right;\">\n",
       "      <th></th>\n",
       "      <th>question</th>\n",
       "      <th>contexte</th>\n",
       "      <th>reponse</th>\n",
       "    </tr>\n",
       "  </thead>\n",
       "  <tbody>\n",
       "    <tr>\n",
       "      <th>0</th>\n",
       "      <td>Qui approuve le règlement de scolarité ?</td>\n",
       "      <td>Le Règlement de Scolarité est approuvé par le ...</td>\n",
       "      <td>Conseil d'Administration de l'École</td>\n",
       "    </tr>\n",
       "    <tr>\n",
       "      <th>1</th>\n",
       "      <td>Par quelle voie s'effectue l'admission en prem...</td>\n",
       "      <td>L'admission en 1ère année de la formation ingé...</td>\n",
       "      <td>concours commun « Centrale-Supélec »</td>\n",
       "    </tr>\n",
       "    <tr>\n",
       "      <th>2</th>\n",
       "      <td>Comment est l'inscription pour les élèves en p...</td>\n",
       "      <td>Pour les élèves ayant signé un contrat de prof...</td>\n",
       "      <td>uniquement pédagogique</td>\n",
       "    </tr>\n",
       "    <tr>\n",
       "      <th>3</th>\n",
       "      <td>Que les élèves doivent-ils avoir lu et approuvé ?</td>\n",
       "      <td>Les élèves ont lu, approuvé et signé les chart...</td>\n",
       "      <td>les chartes informatique et anti-plagiat</td>\n",
       "    </tr>\n",
       "    <tr>\n",
       "      <th>4</th>\n",
       "      <td>Pour quoi la formation peut-elle être aménagée ?</td>\n",
       "      <td>La formation peut être aménagée pour effectuer...</td>\n",
       "      <td>pour effectuer un double diplôme</td>\n",
       "    </tr>\n",
       "    <tr>\n",
       "      <th>5</th>\n",
       "      <td>Qu'est-ce qu'une action de formation ?</td>\n",
       "      <td>Une Action de Formation est un ensemble cohére...</td>\n",
       "      <td>un ensemble cohérent d'activités planifiées</td>\n",
       "    </tr>\n",
       "  </tbody>\n",
       "</table>\n",
       "</div>"
      ],
      "text/plain": [
       "                                            question  \\\n",
       "0           Qui approuve le règlement de scolarité ?   \n",
       "1  Par quelle voie s'effectue l'admission en prem...   \n",
       "2  Comment est l'inscription pour les élèves en p...   \n",
       "3  Que les élèves doivent-ils avoir lu et approuvé ?   \n",
       "4   Pour quoi la formation peut-elle être aménagée ?   \n",
       "5             Qu'est-ce qu'une action de formation ?   \n",
       "\n",
       "                                            contexte  \\\n",
       "0  Le Règlement de Scolarité est approuvé par le ...   \n",
       "1  L'admission en 1ère année de la formation ingé...   \n",
       "2  Pour les élèves ayant signé un contrat de prof...   \n",
       "3  Les élèves ont lu, approuvé et signé les chart...   \n",
       "4  La formation peut être aménagée pour effectuer...   \n",
       "5  Une Action de Formation est un ensemble cohére...   \n",
       "\n",
       "                                       reponse  \n",
       "0          Conseil d'Administration de l'École  \n",
       "1         concours commun « Centrale-Supélec »  \n",
       "2                       uniquement pédagogique  \n",
       "3     les chartes informatique et anti-plagiat  \n",
       "4             pour effectuer un double diplôme  \n",
       "5  un ensemble cohérent d'activités planifiées  "
      ]
     },
     "execution_count": 28,
     "metadata": {},
     "output_type": "execute_result"
    }
   ],
   "source": [
    "df.truncate(before=0, after=5)"
   ]
  },
  {
   "cell_type": "code",
   "execution_count": 52,
   "metadata": {},
   "outputs": [
    {
     "data": {
      "text/plain": [
       "[['Qui approuve le règlement de scolarité ?',\n",
       "  \"Le Règlement de Scolarité est approuvé par le Conseil d'Administration de l'École après consultation du Conseil des Études.\",\n",
       "  \"Conseil d'Administration de l'École\"],\n",
       " [\"Par quelle voie s'effectue l'admission en première année ?\",\n",
       "  \"L'admission en 1ère année de la formation ingénieur s'effectue par la voie du concours commun « Centrale-Supélec » et par la voie de l'admission sur titre, soit « CASTing », admission sur titres d'ingénieurs, commun au Groupe des Écoles Centrales, soit « ENIS ».\",\n",
       "  'concours commun « Centrale-Supélec »'],\n",
       " [\"Comment est l'inscription pour les élèves en profesionnalisation ?\",\n",
       "  \"Pour les élèves ayant signé un contrat de professionnalisation, l'inscription est uniquement pédagogique, c'est-à-dire sans règlement de Droits Universitaires réglementaires.\",\n",
       "  'uniquement pédagogique']]"
      ]
     },
     "execution_count": 52,
     "metadata": {},
     "output_type": "execute_result"
    }
   ],
   "source": [
    "l_data = []\n",
    "for d in df.itertuples():\n",
    "    l_data.append([d[1],d[2],d[3]])\n",
    "l_data[:3]"
   ]
  },
  {
   "cell_type": "markdown",
   "metadata": {},
   "source": [
    "## Acqisition des données\n",
    "\n",
    "### Algorithme KMP pour la création du *dataset*"
   ]
  },
  {
   "cell_type": "code",
   "execution_count": 31,
   "metadata": {},
   "outputs": [],
   "source": [
    "# Knuth-Morris-Pratt string matching\n",
    "# David Eppstein, UC Irvine, 1 Mar 2002\n",
    "# trouvé d'après https://stackoverflow.com/questions/425604/best-way-to-determine-if-a-sequence-is-in-another-sequence\n",
    "# code original ici: https://code.activestate.com/recipes/117214/\n",
    "from __future__ import generators\n",
    "\n",
    "def KnuthMorrisPratt(text, pattern):\n",
    "\n",
    "    '''Yields all starting positions of copies of the pattern in the text.\n",
    "Calling conventions are similar to string.find, but its arguments can be\n",
    "lists or iterators, not just strings, it returns all matches, not just\n",
    "the first one, and it does not need the whole text in memory at once.\n",
    "Whenever it yields, it will have read the text exactly up to and including\n",
    "the match that caused the yield.'''\n",
    "\n",
    "    # allow indexing into pattern and protect against change during yield\n",
    "    pattern = list(pattern)\n",
    "\n",
    "    # build table of shift amounts\n",
    "    shifts = [1] * (len(pattern) + 1)\n",
    "    shift = 1\n",
    "    for pos in range(len(pattern)):\n",
    "        while shift <= pos and pattern[pos] != pattern[pos-shift]:\n",
    "            shift += shifts[pos-shift]\n",
    "        shifts[pos+1] = shift\n",
    "\n",
    "    # do the actual search\n",
    "    startPos = 0\n",
    "    matchLen = 0\n",
    "    for c in text:\n",
    "        while matchLen == len(pattern) or \\\n",
    "              matchLen >= 0 and pattern[matchLen] != c:\n",
    "            startPos += shifts[matchLen]\n",
    "            matchLen -= shifts[matchLen]\n",
    "        matchLen += 1\n",
    "        if matchLen == len(pattern):\n",
    "            yield startPos\n",
    "\n",
    "\n",
    "# https://stackoverflow.com/questions/17870544/find-starting-and-ending-indices-of-sublist-in-list\n",
    "def find_sub_list(sl,l):\n",
    "    sll=len(sl)\n",
    "    for ind in (i for i,e in enumerate(l) if e==sl[0]):\n",
    "        if l[ind:ind+sll]==sl:\n",
    "            return ind,ind+sll-1"
   ]
  },
  {
   "cell_type": "markdown",
   "metadata": {},
   "source": [
    "Tester notre algo de KMP pour le comptage des indices"
   ]
  },
  {
   "cell_type": "code",
   "execution_count": 20,
   "metadata": {},
   "outputs": [
    {
     "data": {
      "text/plain": [
       "[1, 7]"
      ]
     },
     "execution_count": 20,
     "metadata": {},
     "output_type": "execute_result"
    }
   ],
   "source": [
    "list(KnuthMorrisPratt([1,2,3,4,5,6,1,2,3,4],[2,3,4])) # un deux match en position 1 et 7"
   ]
  },
  {
   "cell_type": "markdown",
   "metadata": {},
   "source": [
    "### Extraction des variables de texte et des indices des réponses à l'aides d'outils de NLP et création de la liste Dataset"
   ]
  },
  {
   "cell_type": "code",
   "execution_count": 62,
   "metadata": {},
   "outputs": [],
   "source": [
    "import IPython.display\n",
    "import re as regex\n",
    "import spacy\n",
    "\n",
    "nlp = spacy.load('fr_core_news_sm')\n",
    "\n",
    "def traitement_nlp(text):\n",
    "    ctxt = regex.sub(r'[^0-9 ABCDEFGHIJKLMNOPQRSTUVWXYZabcdefghijklmnopqrstuvwxyzäëïöüâêîôûàéêèçùÉÀÈÇÂÊÎÔÛÄËÏÖÜÀÇÉÈÙ,:.?!;\\[\\]\\(\\)\\'-]','', text) # traitement ici pour optimiser\n",
    "    ctxt = regex.sub(r\"\\[[^\\[\\]]*\\]\",'',ctxt)   # enlever les brackets et leur contenu\n",
    "    ctxt = regex.sub(r'[\" \"]+', \" \", ctxt)      # remplacer les surplus d'espaces par uniquement un espace\n",
    "    ll = [tok.text.lower() for tok in nlp(ctxt)]        # la phrase complète en liste de strings (tokens)\n",
    "    ctxt = ' '.join(ll)                         # la phrase complète en string dont les tokens sont séparés par des espaces\n",
    "    return ctxt,ll\n",
    "\n",
    "\n",
    "\n",
    "# on crée ensuite une liste dont les éléments sont des listes comprenant 5 éléments dans l'ordre contexte, question, réponse, indice, indice\n",
    "dataset = []\n",
    "for datapoint in l_data:\n",
    "    ctxt,ctxt_tok    = traitement_nlp(datapoint[1]) # on récupère le contexte en string et liste de tokens strings\n",
    "    quest,quest_tok  = traitement_nlp(datapoint[0]) # on récupère la question en string et liste de tokens strings\n",
    "    answ,answ_tok    = traitement_nlp(datapoint[2]) # on récupère la liste des tokens de la question pour la matcher avec celle du contexte\n",
    "    ind_match = list(KnuthMorrisPratt(ctxt_tok,answ_tok))\n",
    "    try:\n",
    "        answ_start = ind_match[0]\n",
    "        answ_end = ind_match[0] + len(answ_tok) # convention intervalle semi ouvert\n",
    "        dataset.append([ctxt, quest, answ, answ_start, answ_end]) # str,str,str,int,int\n",
    "    except IndexError: # mauvaise tokénisation de la réponse ou erreur de typo dans le texte ou modification destructive due au prétraitement\n",
    "        pass\n"
   ]
  },
  {
   "cell_type": "code",
   "execution_count": 63,
   "metadata": {},
   "outputs": [
    {
     "data": {
      "text/plain": [
       "[\"le règlement de scolarité est approuvé par le conseil d' administration de l' école après consultation du conseil des études .\",\n",
       " 'qui approuve le règlement de scolarité ?',\n",
       " \"conseil d' administration de l' école\",\n",
       " 8,\n",
       " 14]"
      ]
     },
     "execution_count": 63,
     "metadata": {},
     "output_type": "execute_result"
    }
   ],
   "source": [
    "dataset[0]"
   ]
  },
  {
   "cell_type": "markdown",
   "metadata": {},
   "source": [
    "#### Sauvegarder la liste du dataset"
   ]
  },
  {
   "cell_type": "code",
   "execution_count": 58,
   "metadata": {},
   "outputs": [],
   "source": [
    "import pickle\n",
    "with open(\"./questions_réponses_scol\", \"wb\") as fp:\n",
    "    pickle.dump(dataset, fp)"
   ]
  }
 ],
 "metadata": {
  "interpreter": {
   "hash": "97ddd83c14480b84975401bb9e160e96ea8a34f7ba8a860dc78b0906f9559c8c"
  },
  "kernelspec": {
   "display_name": "Python 3 (ipykernel)",
   "language": "python",
   "name": "python3"
  },
  "language_info": {
   "codemirror_mode": {
    "name": "ipython",
    "version": 3
   },
   "file_extension": ".py",
   "mimetype": "text/x-python",
   "name": "python",
   "nbconvert_exporter": "python",
   "pygments_lexer": "ipython3",
   "version": "3.9.9"
  }
 },
 "nbformat": 4,
 "nbformat_minor": 4
}
