{
 "cells": [
  {
   "cell_type": "code",
   "execution_count": 22,
   "id": "e2fa00ce",
   "metadata": {},
   "outputs": [],
   "source": [
    "import cupy as cp\n",
    "import numpy as np\n",
    "import time"
   ]
  },
  {
   "cell_type": "code",
   "execution_count": 23,
   "id": "d2a93206",
   "metadata": {},
   "outputs": [
    {
     "name": "stdout",
     "output_type": "stream",
     "text": [
      "1\n"
     ]
    }
   ],
   "source": [
    "print(cp.cuda.runtime.getDeviceCount())\n",
    "cp.cuda.Device(0).use()"
   ]
  },
  {
   "cell_type": "code",
   "execution_count": 29,
   "id": "69df50b7",
   "metadata": {},
   "outputs": [
    {
     "name": "stdout",
     "output_type": "stream",
     "text": [
      "5.635090351104736\n"
     ]
    }
   ],
   "source": [
    "s = time.time()\n",
    "for i in range(100):\n",
    "    u = cp.random.random((1000,1000))\n",
    "    d = cp.linalg.inv(u)\n",
    "    r = cp.linalg.norm(cp.ones((1000,1000))-d*u)\n",
    "e = time.time()\n",
    "print(e-s)"
   ]
  },
  {
   "cell_type": "code",
   "execution_count": 27,
   "id": "5f769375",
   "metadata": {},
   "outputs": [
    {
     "name": "stdout",
     "output_type": "stream",
     "text": [
      "5.920733451843262\n"
     ]
    }
   ],
   "source": [
    "s = time.time()\n",
    "for i in range(100):\n",
    "    u = np.random.random((1000,1000))\n",
    "    d = np.linalg.inv(u)\n",
    "    r = np.linalg.norm(np.ones((1000,1000))-d*u)\n",
    "e = time.time()\n",
    "print(e-s)"
   ]
  },
  {
   "cell_type": "code",
   "execution_count": 7,
   "id": "64a50b30",
   "metadata": {},
   "outputs": [],
   "source": [
    "!set CUDA_PATH=C:\\Program Files\\NVIDIA GPU Computing Toolkit\\CUDA\\v11.5"
   ]
  },
  {
   "cell_type": "code",
   "execution_count": 41,
   "id": "f2480804",
   "metadata": {},
   "outputs": [
    {
     "name": "stdout",
     "output_type": "stream",
     "text": [
      "0.11594510078430176\n",
      "0.10025477409362793\n"
     ]
    }
   ],
   "source": [
    "### Numpy and CPU\n",
    "s = time.time()\n",
    "x_cpu = np.ones((400,400,400))\n",
    "e = time.time()\n",
    "print(e - s)\n",
    "\n",
    "### CuPy and GPU\n",
    "s = time.time()\n",
    "x_gpu = cp.ones((400,400,400))\n",
    "cp.cuda.Stream.null.synchronize()\n",
    "e = time.time()\n",
    "print(e - s)"
   ]
  },
  {
   "cell_type": "code",
   "execution_count": 42,
   "id": "bcdf2c70",
   "metadata": {},
   "outputs": [
    {
     "name": "stdout",
     "output_type": "stream",
     "text": [
      "0.08469271659851074\n",
      "0.15117931365966797\n"
     ]
    }
   ],
   "source": [
    "### Numpy and CPU\n",
    "s = time.time()\n",
    "x_cpu *= 5\n",
    "e = time.time()\n",
    "print(e - s)\n",
    "\n",
    "### CuPy and GPU\n",
    "s = time.time()\n",
    "x_gpu *= 5\n",
    "cp.cuda.Stream.null.synchronize()\n",
    "e = time.time()\n",
    "print(e - s)"
   ]
  },
  {
   "cell_type": "code",
   "execution_count": 43,
   "id": "d23fb9d9",
   "metadata": {},
   "outputs": [
    {
     "name": "stdout",
     "output_type": "stream",
     "text": [
      "0.2282717227935791\n",
      "0.5245921611785889\n"
     ]
    }
   ],
   "source": [
    "### Numpy and CPU\n",
    "s = time.time()\n",
    "x_cpu *= 5\n",
    "x_cpu *= x_cpu\n",
    "x_cpu += x_cpu\n",
    "e = time.time()\n",
    "print(e - s)\n",
    "\n",
    "### CuPy and GPU\n",
    "s = time.time()\n",
    "x_gpu *= 5\n",
    "x_gpu *= x_gpu\n",
    "x_gpu += x_gpu\n",
    "cp.cuda.Stream.null.synchronize()\n",
    "e = time.time()\n",
    "print(e - s)"
   ]
  },
  {
   "cell_type": "code",
   "execution_count": 52,
   "id": "5207f756",
   "metadata": {},
   "outputs": [
    {
     "name": "stdout",
     "output_type": "stream",
     "text": [
      "2.670926332473755\n",
      "1.385422945022583\n"
     ]
    }
   ],
   "source": [
    "### Numpy and CPU\n",
    "s = time.time()\n",
    "x_cpu = np.random.random((4000,4000))\n",
    "inv_x_cpu = np.linalg.inv(x_cpu)\n",
    "uns = np.matmul(x_cpu,inv_x_cpu)\n",
    "e = time.time()\n",
    "print(e - s)\n",
    "\n",
    "### CuPy and GPU\n",
    "s = time.time()\n",
    "x_gpu = cp.random.random((4000,4000))\n",
    "inv_x_gpu = cp.linalg.inv(x_gpu)\n",
    "uns = cp.matmul(x_gpu,inv_x_gpu)\n",
    "e = time.time()\n",
    "print(e - s)"
   ]
  },
  {
   "cell_type": "code",
   "execution_count": 57,
   "id": "ae3f8aa1",
   "metadata": {},
   "outputs": [
    {
     "name": "stdout",
     "output_type": "stream",
     "text": [
      "2.84 s ± 73 ms per loop (mean ± std. dev. of 7 runs, 1 loop each)\n"
     ]
    }
   ],
   "source": [
    "%%timeit\n",
    "x_cpu = np.random.random((4000,4000))\n",
    "inv_x_cpu = np.linalg.inv(x_cpu)\n",
    "uns = np.matmul(x_cpu,inv_x_cpu)"
   ]
  },
  {
   "cell_type": "code",
   "execution_count": 59,
   "id": "20e36770",
   "metadata": {},
   "outputs": [
    {
     "name": "stdout",
     "output_type": "stream",
     "text": [
      "3.44 s ± 11 ms per loop (mean ± std. dev. of 7 runs, 1 loop each)\n"
     ]
    }
   ],
   "source": [
    "%%timeit\n",
    "x_gpu = cp.random.random((4000,4000))\n",
    "inv_x_gpu = cp.linalg.inv(x_gpu)\n",
    "uns = cp.matmul(x_gpu,inv_x_gpu)"
   ]
  },
  {
   "cell_type": "code",
   "execution_count": 62,
   "id": "6f8d9ac6",
   "metadata": {},
   "outputs": [
    {
     "name": "stdout",
     "output_type": "stream",
     "text": [
      "204 ms ± 6.18 ms per loop (mean ± std. dev. of 7 runs, 1 loop each)\n"
     ]
    }
   ],
   "source": [
    "%%timeit\n",
    "x_cpu = np.random.random((3000,3000))\n",
    "np.fft.fft(x_cpu)"
   ]
  },
  {
   "cell_type": "code",
   "execution_count": 63,
   "id": "1c280b7a",
   "metadata": {},
   "outputs": [
    {
     "name": "stdout",
     "output_type": "stream",
     "text": [
      "23.8 ms ± 37.7 µs per loop (mean ± std. dev. of 7 runs, 1000 loops each)\n"
     ]
    }
   ],
   "source": [
    "%%timeit\n",
    "x_gpu = cp.random.random((3000,3000))\n",
    "cp.fft.fft(x_gpu)"
   ]
  },
  {
   "cell_type": "code",
   "execution_count": 76,
   "id": "0e9fb068",
   "metadata": {},
   "outputs": [
    {
     "name": "stdout",
     "output_type": "stream",
     "text": [
      "1.09 s ± 59.3 ms per loop (mean ± std. dev. of 7 runs, 1 loop each)\n"
     ]
    }
   ],
   "source": [
    "%%timeit\n",
    "u_cpu = np.random.rand(100000)\n",
    "v_cpu = np.random.rand(100000)\n",
    "w = np.convolve(u_cpu,v_cpu)"
   ]
  },
  {
   "cell_type": "code",
   "execution_count": 75,
   "id": "9d62ff3c",
   "metadata": {},
   "outputs": [
    {
     "name": "stdout",
     "output_type": "stream",
     "text": [
      "1.22 ms ± 7.28 µs per loop (mean ± std. dev. of 7 runs, 1000 loops each)\n"
     ]
    }
   ],
   "source": [
    "%%timeit\n",
    "u_gpu = cp.random.rand(100000)\n",
    "v_gpu = cp.random.rand(100000)\n",
    "w = cp.convolve(u_gpu,v_gpu)"
   ]
  },
  {
   "cell_type": "code",
   "execution_count": null,
   "id": "6762e8c1",
   "metadata": {},
   "outputs": [],
   "source": []
  }
 ],
 "metadata": {
  "kernelspec": {
   "display_name": "Python 3 (ipykernel)",
   "language": "python",
   "name": "python3"
  },
  "language_info": {
   "codemirror_mode": {
    "name": "ipython",
    "version": 3
   },
   "file_extension": ".py",
   "mimetype": "text/x-python",
   "name": "python",
   "nbconvert_exporter": "python",
   "pygments_lexer": "ipython3",
   "version": "3.8.12"
  }
 },
 "nbformat": 4,
 "nbformat_minor": 5
}
